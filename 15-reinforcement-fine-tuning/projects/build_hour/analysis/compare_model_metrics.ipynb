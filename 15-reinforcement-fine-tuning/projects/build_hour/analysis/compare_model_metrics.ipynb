{
 "cells": [
  {
   "cell_type": "code",
   "execution_count": 1,
   "id": "36d5a3c8",
   "metadata": {},
   "outputs": [
    {
     "name": "stdout",
     "output_type": "stream",
     "text": [
      "✅ Added to sys.path: /Users/theophile/Documents/repos/build-hours/15-reinforcement-fine-tuning\n",
      "✅ Project name set to: build_hour\n"
     ]
    }
   ],
   "source": [
    "# Imports\n",
    "# ---------------------------------------------------------------------------\n",
    "import pathlib, sys, os\n",
    "import numpy as np\n",
    "\n",
    "# ---------------------------------------------------------------------------\n",
    "# Determine current file/notebook location\n",
    "# (Use __file__ if running as a script; fallback to cwd for notebooks)\n",
    "# ---------------------------------------------------------------------------\n",
    "try:\n",
    "    HERE = pathlib.Path(__file__).resolve()\n",
    "except NameError:  # __file__ is not defined in notebooks\n",
    "    HERE = pathlib.Path().resolve()\n",
    "\n",
    "# ---------------------------------------------------------------------------\n",
    "# Locate shared root (the folder that contains both `utils` and your project)\n",
    "# It climbs up until it finds a `utils/` directory or stops at filesystem root.\n",
    "# ---------------------------------------------------------------------------\n",
    "ROOT = HERE\n",
    "while ROOT != ROOT.parent and not (ROOT / \"utils\").exists():\n",
    "    ROOT = ROOT.parent\n",
    "\n",
    "if not (ROOT / \"utils\").exists():\n",
    "    raise RuntimeError(\n",
    "        f\"Could not find 'utils' directory above {HERE}. \"\n",
    "        \"Check your project structure or adjust the path resolution logic.\"\n",
    "    )\n",
    "\n",
    "if str(ROOT) not in sys.path:\n",
    "    sys.path.insert(0, str(ROOT))\n",
    "print(f\"✅ Added to sys.path: {ROOT}\")\n",
    "\n",
    "# ---------------------------------------------------------------------------\n",
    "# Infer project name (parent of pipelines/ or notebooks/)\n",
    "# e.g., .../projects/<project>/notebooks/... -> <project>\n",
    "# ---------------------------------------------------------------------------\n",
    "project_name = HERE.parent.name\n",
    "os.environ.setdefault(\"PROJECT\", project_name)\n",
    "print(f\"✅ Project name set to: {project_name}\")\n",
    "\n",
    "from utils.plot_eval_runs import load_scores_by_item, compute_score_stats\n",
    "from utils import load_prompt"
   ]
  },
  {
   "cell_type": "code",
   "execution_count": 2,
   "id": "c1e8933d",
   "metadata": {},
   "outputs": [],
   "source": [
    "# Configuration – edit as needed\n",
    "# ---------------------------------------------------------------------------\n",
    "DATASET = \"build_hour\"  # project / dataset identifier\n",
    "\n",
    "# Fold the configuration into explicit experiment tuples.\n",
    "\n",
    "EXPERIMENTS = [\n",
    "    {\"model\": \"gpt-4.1\", \"prompt_name\": \"v7\", \"reasoning_effort\": None},\n",
    "    {\"model\": \"o4-mini\", \"prompt_name\": \"v7\", \"reasoning_effort\": \"low\"},\n",
    "    {\n",
    "        \"model\": \"ft:o4-mini-2025-04-16:agi-final-final-docx:rft-build-hour-prompt-v7:BsZsVoqh:ckpt-step-90\",\n",
    "        \"prompt_name\": \"v7\",\n",
    "        \"reasoning_effort\": \"low\",\n",
    "    },\n",
    "]\n",
    "\n",
    "SPLIT = \"val\"  # \"train\", \"val\"\n"
   ]
  },
  {
   "cell_type": "code",
   "execution_count": 3,
   "id": "44b6985a",
   "metadata": {},
   "outputs": [
    {
     "name": "stdout",
     "output_type": "stream",
     "text": [
      "[prompt] looking for prompts/developer/v7.md\n",
      "/Users/theophile/Documents/repos/build-hours/15-reinforcement-fine-tuning/projects/build_hour\n",
      "\n",
      "=== gpt-4.1 | prompt=v7 | re=None ===\n",
      "\n",
      "=== o4-mini | prompt=v7 | re=low ===\n",
      "\n",
      "=== ft:o4-mini-2025-04-16:agi-final-final-docx:rft-build-hour-prompt-v7:BsZsVoqh:ckpt-step-90 | prompt=v7 | re=low ===\n"
     ]
    }
   ],
   "source": [
    "# Compute metrics\n",
    "# ---------------------------------------------------------------------------\n",
    "# Cache prompt_name -> prompt_id to avoid re-loading duplicates\n",
    "_PROMPT_CACHE: dict[str, str] = {}\n",
    "\n",
    "# Graders to include ---------------------------------------------------------\n",
    "GRADERS = [\n",
    "    \"level1_precision\",\n",
    "    \"level1_recall\",\n",
    "    \"level1_f1_python\",\n",
    "]\n",
    "# ---------------------------------------------------------------------------\n",
    "# Compute metrics across combinations\n",
    "# ---------------------------------------------------------------------------\n",
    "\n",
    "records = []  # list of dicts for each combination\n",
    "\n",
    "for exp in EXPERIMENTS:\n",
    "    model = exp[\"model\"]\n",
    "    pname = exp[\"prompt_name\"]\n",
    "    r_eff = exp.get(\"reasoning_effort\")\n",
    "\n",
    "    # Resolve prompt id (cache to minimise disk access)\n",
    "    if pname not in _PROMPT_CACHE:\n",
    "        pobj = load_prompt(DATASET, pname, prompt_type=\"developer\")\n",
    "        if pobj is None:\n",
    "            raise RuntimeError(f\"Prompt {pname} not found – create it under prompts/{DATASET}/\")\n",
    "        _PROMPT_CACHE[pname] = pobj.id\n",
    "    pid = _PROMPT_CACHE[pname]\n",
    "\n",
    "    combo_label = f\"{model} | prompt={pname} | re={r_eff or 'None'}\"\n",
    "    print(f\"\\n=== {combo_label} ===\")\n",
    "\n",
    "    found_any = False\n",
    "    for grader in GRADERS:\n",
    "        scores_by_item, runs = load_scores_by_item(\n",
    "            dataset=DATASET,\n",
    "            prompt_id=pid,\n",
    "            model=model,\n",
    "            grader_name=grader,\n",
    "            reasoning_effort=r_eff,\n",
    "            split=SPLIT,\n",
    "        )\n",
    "        if not scores_by_item:\n",
    "            continue\n",
    "        found_any = True\n",
    "\n",
    "        stats = compute_score_stats(scores_by_item)\n",
    "        overall_mean = np.mean([v[\"mean\"] for v in stats.values()])\n",
    "        overall_max = np.mean([v[\"max\"] for v in stats.values()])\n",
    "        # Compute std across RUN means (variance of experimental repeats)\n",
    "        run_means = []\n",
    "        for run_meta in runs:\n",
    "            vals = []\n",
    "            for item in run_meta[\"items\"]:\n",
    "                raw_score = item.get(\"score\")\n",
    "                if isinstance(raw_score, dict):\n",
    "                    score_val = raw_score.get(grader)\n",
    "                else:\n",
    "                    score_val = raw_score\n",
    "                if score_val is not None:\n",
    "                    vals.append(score_val)\n",
    "            if vals:\n",
    "                run_means.append(np.mean(vals))\n",
    "        if len(run_means) > 1:\n",
    "            overall_std = float(np.std(run_means, ddof=1))\n",
    "        else:\n",
    "            overall_std = 0.0\n",
    "\n",
    "        records.append(\n",
    "            dict(\n",
    "                model=model,\n",
    "                prompt=pname,\n",
    "                reasoning_effort=r_eff,\n",
    "                grader=grader,\n",
    "                mean=overall_mean,\n",
    "                std=overall_std,\n",
    "                mean_max=overall_max,\n",
    "                n_items=len(stats),\n",
    "                n_runs=len(runs),\n",
    "            )\n",
    "        )\n",
    "\n",
    "    if not found_any:\n",
    "        print(\"(no data)\")"
   ]
  },
  {
   "cell_type": "code",
   "execution_count": 4,
   "id": "98179774",
   "metadata": {},
   "outputs": [
    {
     "data": {
      "text/html": [
       "<div>\n",
       "<style scoped>\n",
       "    .dataframe tbody tr th:only-of-type {\n",
       "        vertical-align: middle;\n",
       "    }\n",
       "\n",
       "    .dataframe tbody tr th {\n",
       "        vertical-align: top;\n",
       "    }\n",
       "\n",
       "    .dataframe thead th {\n",
       "        text-align: right;\n",
       "    }\n",
       "</style>\n",
       "<table border=\"1\" class=\"dataframe\">\n",
       "  <thead>\n",
       "    <tr style=\"text-align: right;\">\n",
       "      <th></th>\n",
       "      <th>Model</th>\n",
       "      <th>Prompt</th>\n",
       "      <th>Reasoning</th>\n",
       "      <th>level1_precision_mean</th>\n",
       "      <th>level1_precision_std</th>\n",
       "      <th>level1_recall_mean</th>\n",
       "      <th>level1_recall_std</th>\n",
       "      <th>level1_f1_python_mean</th>\n",
       "      <th>level1_f1_python_std</th>\n",
       "    </tr>\n",
       "  </thead>\n",
       "  <tbody>\n",
       "    <tr>\n",
       "      <th>0</th>\n",
       "      <td>gpt-4.1</td>\n",
       "      <td>v7</td>\n",
       "      <td>None</td>\n",
       "      <td>0.390</td>\n",
       "      <td>0.007</td>\n",
       "      <td>0.593</td>\n",
       "      <td>0.004</td>\n",
       "      <td>0.449</td>\n",
       "      <td>0.006</td>\n",
       "    </tr>\n",
       "    <tr>\n",
       "      <th>1</th>\n",
       "      <td>o4-mini</td>\n",
       "      <td>v7</td>\n",
       "      <td>low</td>\n",
       "      <td>0.754</td>\n",
       "      <td>0.018</td>\n",
       "      <td>0.474</td>\n",
       "      <td>0.013</td>\n",
       "      <td>0.537</td>\n",
       "      <td>0.020</td>\n",
       "    </tr>\n",
       "    <tr>\n",
       "      <th>2</th>\n",
       "      <td>ft:o4-mini-2025-04-16:agi-final-final-docx:rft...</td>\n",
       "      <td>v7</td>\n",
       "      <td>low</td>\n",
       "      <td>0.774</td>\n",
       "      <td>0.019</td>\n",
       "      <td>0.628</td>\n",
       "      <td>0.016</td>\n",
       "      <td>0.671</td>\n",
       "      <td>0.003</td>\n",
       "    </tr>\n",
       "  </tbody>\n",
       "</table>\n",
       "</div>"
      ],
      "text/plain": [
       "                                               Model Prompt Reasoning  \\\n",
       "0                                            gpt-4.1     v7      None   \n",
       "1                                            o4-mini     v7       low   \n",
       "2  ft:o4-mini-2025-04-16:agi-final-final-docx:rft...     v7       low   \n",
       "\n",
       "   level1_precision_mean  level1_precision_std  level1_recall_mean  \\\n",
       "0                  0.390                 0.007               0.593   \n",
       "1                  0.754                 0.018               0.474   \n",
       "2                  0.774                 0.019               0.628   \n",
       "\n",
       "   level1_recall_std  level1_f1_python_mean  level1_f1_python_std  \n",
       "0              0.004                  0.449                 0.006  \n",
       "1              0.013                  0.537                 0.020  \n",
       "2              0.016                  0.671                 0.003  "
      ]
     },
     "metadata": {},
     "output_type": "display_data"
    }
   ],
   "source": [
    "# Display summary table ------------------------------------------------------\n",
    "if not records:\n",
    "    print(\"No matching runs found – adjust configuration and retry.\")\n",
    "else:\n",
    "    # Pivot so that each (model, prompt, reasoning) combination has grader metrics as columns\n",
    "    from collections import defaultdict\n",
    "\n",
    "    pivot: dict[tuple[str, str, str | None], dict[str, dict]] = defaultdict(dict)\n",
    "    for rec in records:\n",
    "        key = (rec[\"model\"], rec[\"prompt\"], rec[\"reasoning_effort\"])\n",
    "        pivot[key][rec[\"grader\"]] = rec\n",
    "\n",
    "    # Determine unique graders order\n",
    "    grader_cols = [\"level1_precision\", \"level1_recall\", \"level1_f1_python\"]\n",
    "    # Ensure any missing graders also included\n",
    "    for rec in records:\n",
    "        if rec[\"grader\"] not in grader_cols:\n",
    "            grader_cols.append(rec[\"grader\"])\n",
    "\n",
    "    # Header\n",
    "    try:\n",
    "        import pandas as pd  # type: ignore\n",
    "\n",
    "        rows = []\n",
    "        for (model, prompt, reff), gdict in pivot.items():\n",
    "            rec = {\"Model\": model, \"Prompt\": prompt, \"Reasoning\": reff or \"None\"}\n",
    "            for g in grader_cols:\n",
    "                if g in gdict:\n",
    "                    rec[f\"{g}_mean\"] = round(gdict[g][\"mean\"], 3)\n",
    "                    rec[f\"{g}_std\"] = round(gdict[g][\"std\"], 3)\n",
    "                else:\n",
    "                    rec[f\"{g}_mean\"] = None\n",
    "                    rec[f\"{g}_std\"] = None\n",
    "            rows.append(rec)\n",
    "\n",
    "        df = pd.DataFrame(rows)\n",
    "        display(df)  # noqa: F821 – works in notebooks\n",
    "    except ModuleNotFoundError:\n",
    "        # Fallback to simple tab-separated print\n",
    "        hdr = [\"Model\", \"Prompt\", \"Reasoning\"]\n",
    "        for g in grader_cols:\n",
    "            hdr.extend([f\"{g}_mean\", f\"{g}_std\"])\n",
    "        print(\"\\t\".join(hdr))\n",
    "        for (model, prompt, reff), gdict in pivot.items():\n",
    "            row = [model, prompt, reff or \"None\"]\n",
    "            for g in grader_cols:\n",
    "                if g in gdict:\n",
    "                    row.append(f\"{gdict[g]['mean']:.3f}\")\n",
    "                    row.append(f\"{gdict[g]['std']:.3f}\")\n",
    "                else:\n",
    "                    row.extend([\"-\", \"-\"])\n",
    "            print(\"\\t\".join(row))\n"
   ]
  },
  {
   "cell_type": "code",
   "execution_count": 5,
   "id": "07fc8d3e",
   "metadata": {},
   "outputs": [
    {
     "data": {
      "application/vnd.plotly.v1+json": {
       "config": {
        "plotlyServerURL": "https://plot.ly"
       },
       "data": [
        {
         "error_y": {
          "array": [
           0.007,
           0.004,
           0.006
          ],
          "color": "#FFA500",
          "thickness": 2,
          "type": "data",
          "visible": true,
          "width": 3
         },
         "marker": {
          "color": "#e7efff"
         },
         "name": "gpt-4.1 | v7 | None",
         "opacity": 1,
         "type": "bar",
         "width": 0.26666666666666666,
         "x": {
          "bdata": "ERERERER0b94d3d3d3fnP7y7u7u7u/s/",
          "dtype": "f8"
         },
         "y": [
          0.39,
          0.593,
          0.449
         ]
        },
        {
         "hoverinfo": "skip",
         "mode": "text",
         "showlegend": false,
         "text": [
          "0.39",
          "0.59",
          "0.45"
         ],
         "textfont": {
          "color": "#FFFFFF",
          "size": 12
         },
         "textposition": "top center",
         "type": "scatter",
         "x": {
          "bdata": "ERERERER0b94d3d3d3fnP7y7u7u7u/s/",
          "dtype": "f8"
         },
         "y": [
          0.402,
          0.602,
          0.46
         ]
        },
        {
         "error_y": {
          "array": [
           0.018,
           0.013,
           0.02
          ],
          "color": "#FFA500",
          "thickness": 2,
          "type": "data",
          "visible": true,
          "width": 3
         },
         "marker": {
          "color": "#ffefa4"
         },
         "name": "o4-mini | v7 | low",
         "opacity": 1,
         "type": "bar",
         "width": 0.26666666666666666,
         "x": {
          "bdata": "AAAAAAAAAAAAAAAAAADwPwAAAAAAAABA",
          "dtype": "f8"
         },
         "y": [
          0.754,
          0.474,
          0.537
         ]
        },
        {
         "hoverinfo": "skip",
         "mode": "text",
         "showlegend": false,
         "text": [
          "0.75",
          "0.47",
          "0.54"
         ],
         "textfont": {
          "color": "#FFFFFF",
          "size": 12
         },
         "textposition": "top center",
         "type": "scatter",
         "x": {
          "bdata": "AAAAAAAAAAAAAAAAAADwPwAAAAAAAABA",
          "dtype": "f8"
         },
         "y": [
          0.777,
          0.492,
          0.562
         ]
        },
        {
         "error_y": {
          "array": [
           0.019,
           0.016,
           0.003
          ],
          "color": "#FFA500",
          "thickness": 2,
          "type": "data",
          "visible": true,
          "width": 3
         },
         "marker": {
          "color": "#ffbfa4"
         },
         "name": "ft:o4-mini-2025-04-16:agi-final-final-docx:rft-build-hour-prompt-v7:BsZsVoqh:ckpt-step-90 | v7 | low",
         "opacity": 1,
         "type": "bar",
         "width": 0.26666666666666666,
         "x": {
          "bdata": "ERERERER0T9ERERERET0PyIiIiIiIgJA",
          "dtype": "f8"
         },
         "y": [
          0.774,
          0.628,
          0.671
         ]
        },
        {
         "hoverinfo": "skip",
         "mode": "text",
         "showlegend": false,
         "text": [
          "0.77",
          "0.63",
          "0.67"
         ],
         "textfont": {
          "color": "#FFFFFF",
          "size": 12
         },
         "textposition": "top center",
         "type": "scatter",
         "x": {
          "bdata": "ERERERER0T9ERERERET0PyIiIiIiIgJA",
          "dtype": "f8"
         },
         "y": [
          0.798,
          0.649,
          0.679
         ]
        }
       ],
       "layout": {
        "bargap": 0.25,
        "barmode": "group",
        "font": {
         "color": "#FFFFFF",
         "family": "Inter, sans-serif"
        },
        "height": 600,
        "legend": {
         "orientation": "h",
         "x": 0.5,
         "xanchor": "center",
         "y": -0.25
        },
        "margin": {
         "b": 140,
         "l": 60,
         "r": 60,
         "t": 80
        },
        "paper_bgcolor": "#000000",
        "plot_bgcolor": "#000000",
        "template": {
         "data": {
          "bar": [
           {
            "error_x": {
             "color": "#f2f5fa"
            },
            "error_y": {
             "color": "#f2f5fa"
            },
            "marker": {
             "line": {
              "color": "rgb(17,17,17)",
              "width": 0.5
             },
             "pattern": {
              "fillmode": "overlay",
              "size": 10,
              "solidity": 0.2
             }
            },
            "type": "bar"
           }
          ],
          "barpolar": [
           {
            "marker": {
             "line": {
              "color": "rgb(17,17,17)",
              "width": 0.5
             },
             "pattern": {
              "fillmode": "overlay",
              "size": 10,
              "solidity": 0.2
             }
            },
            "type": "barpolar"
           }
          ],
          "carpet": [
           {
            "aaxis": {
             "endlinecolor": "#A2B1C6",
             "gridcolor": "#506784",
             "linecolor": "#506784",
             "minorgridcolor": "#506784",
             "startlinecolor": "#A2B1C6"
            },
            "baxis": {
             "endlinecolor": "#A2B1C6",
             "gridcolor": "#506784",
             "linecolor": "#506784",
             "minorgridcolor": "#506784",
             "startlinecolor": "#A2B1C6"
            },
            "type": "carpet"
           }
          ],
          "choropleth": [
           {
            "colorbar": {
             "outlinewidth": 0,
             "ticks": ""
            },
            "type": "choropleth"
           }
          ],
          "contour": [
           {
            "colorbar": {
             "outlinewidth": 0,
             "ticks": ""
            },
            "colorscale": [
             [
              0,
              "#0d0887"
             ],
             [
              0.1111111111111111,
              "#46039f"
             ],
             [
              0.2222222222222222,
              "#7201a8"
             ],
             [
              0.3333333333333333,
              "#9c179e"
             ],
             [
              0.4444444444444444,
              "#bd3786"
             ],
             [
              0.5555555555555556,
              "#d8576b"
             ],
             [
              0.6666666666666666,
              "#ed7953"
             ],
             [
              0.7777777777777778,
              "#fb9f3a"
             ],
             [
              0.8888888888888888,
              "#fdca26"
             ],
             [
              1,
              "#f0f921"
             ]
            ],
            "type": "contour"
           }
          ],
          "contourcarpet": [
           {
            "colorbar": {
             "outlinewidth": 0,
             "ticks": ""
            },
            "type": "contourcarpet"
           }
          ],
          "heatmap": [
           {
            "colorbar": {
             "outlinewidth": 0,
             "ticks": ""
            },
            "colorscale": [
             [
              0,
              "#0d0887"
             ],
             [
              0.1111111111111111,
              "#46039f"
             ],
             [
              0.2222222222222222,
              "#7201a8"
             ],
             [
              0.3333333333333333,
              "#9c179e"
             ],
             [
              0.4444444444444444,
              "#bd3786"
             ],
             [
              0.5555555555555556,
              "#d8576b"
             ],
             [
              0.6666666666666666,
              "#ed7953"
             ],
             [
              0.7777777777777778,
              "#fb9f3a"
             ],
             [
              0.8888888888888888,
              "#fdca26"
             ],
             [
              1,
              "#f0f921"
             ]
            ],
            "type": "heatmap"
           }
          ],
          "histogram": [
           {
            "marker": {
             "pattern": {
              "fillmode": "overlay",
              "size": 10,
              "solidity": 0.2
             }
            },
            "type": "histogram"
           }
          ],
          "histogram2d": [
           {
            "colorbar": {
             "outlinewidth": 0,
             "ticks": ""
            },
            "colorscale": [
             [
              0,
              "#0d0887"
             ],
             [
              0.1111111111111111,
              "#46039f"
             ],
             [
              0.2222222222222222,
              "#7201a8"
             ],
             [
              0.3333333333333333,
              "#9c179e"
             ],
             [
              0.4444444444444444,
              "#bd3786"
             ],
             [
              0.5555555555555556,
              "#d8576b"
             ],
             [
              0.6666666666666666,
              "#ed7953"
             ],
             [
              0.7777777777777778,
              "#fb9f3a"
             ],
             [
              0.8888888888888888,
              "#fdca26"
             ],
             [
              1,
              "#f0f921"
             ]
            ],
            "type": "histogram2d"
           }
          ],
          "histogram2dcontour": [
           {
            "colorbar": {
             "outlinewidth": 0,
             "ticks": ""
            },
            "colorscale": [
             [
              0,
              "#0d0887"
             ],
             [
              0.1111111111111111,
              "#46039f"
             ],
             [
              0.2222222222222222,
              "#7201a8"
             ],
             [
              0.3333333333333333,
              "#9c179e"
             ],
             [
              0.4444444444444444,
              "#bd3786"
             ],
             [
              0.5555555555555556,
              "#d8576b"
             ],
             [
              0.6666666666666666,
              "#ed7953"
             ],
             [
              0.7777777777777778,
              "#fb9f3a"
             ],
             [
              0.8888888888888888,
              "#fdca26"
             ],
             [
              1,
              "#f0f921"
             ]
            ],
            "type": "histogram2dcontour"
           }
          ],
          "mesh3d": [
           {
            "colorbar": {
             "outlinewidth": 0,
             "ticks": ""
            },
            "type": "mesh3d"
           }
          ],
          "parcoords": [
           {
            "line": {
             "colorbar": {
              "outlinewidth": 0,
              "ticks": ""
             }
            },
            "type": "parcoords"
           }
          ],
          "pie": [
           {
            "automargin": true,
            "type": "pie"
           }
          ],
          "scatter": [
           {
            "marker": {
             "line": {
              "color": "#283442"
             }
            },
            "type": "scatter"
           }
          ],
          "scatter3d": [
           {
            "line": {
             "colorbar": {
              "outlinewidth": 0,
              "ticks": ""
             }
            },
            "marker": {
             "colorbar": {
              "outlinewidth": 0,
              "ticks": ""
             }
            },
            "type": "scatter3d"
           }
          ],
          "scattercarpet": [
           {
            "marker": {
             "colorbar": {
              "outlinewidth": 0,
              "ticks": ""
             }
            },
            "type": "scattercarpet"
           }
          ],
          "scattergeo": [
           {
            "marker": {
             "colorbar": {
              "outlinewidth": 0,
              "ticks": ""
             }
            },
            "type": "scattergeo"
           }
          ],
          "scattergl": [
           {
            "marker": {
             "line": {
              "color": "#283442"
             }
            },
            "type": "scattergl"
           }
          ],
          "scattermap": [
           {
            "marker": {
             "colorbar": {
              "outlinewidth": 0,
              "ticks": ""
             }
            },
            "type": "scattermap"
           }
          ],
          "scattermapbox": [
           {
            "marker": {
             "colorbar": {
              "outlinewidth": 0,
              "ticks": ""
             }
            },
            "type": "scattermapbox"
           }
          ],
          "scatterpolar": [
           {
            "marker": {
             "colorbar": {
              "outlinewidth": 0,
              "ticks": ""
             }
            },
            "type": "scatterpolar"
           }
          ],
          "scatterpolargl": [
           {
            "marker": {
             "colorbar": {
              "outlinewidth": 0,
              "ticks": ""
             }
            },
            "type": "scatterpolargl"
           }
          ],
          "scatterternary": [
           {
            "marker": {
             "colorbar": {
              "outlinewidth": 0,
              "ticks": ""
             }
            },
            "type": "scatterternary"
           }
          ],
          "surface": [
           {
            "colorbar": {
             "outlinewidth": 0,
             "ticks": ""
            },
            "colorscale": [
             [
              0,
              "#0d0887"
             ],
             [
              0.1111111111111111,
              "#46039f"
             ],
             [
              0.2222222222222222,
              "#7201a8"
             ],
             [
              0.3333333333333333,
              "#9c179e"
             ],
             [
              0.4444444444444444,
              "#bd3786"
             ],
             [
              0.5555555555555556,
              "#d8576b"
             ],
             [
              0.6666666666666666,
              "#ed7953"
             ],
             [
              0.7777777777777778,
              "#fb9f3a"
             ],
             [
              0.8888888888888888,
              "#fdca26"
             ],
             [
              1,
              "#f0f921"
             ]
            ],
            "type": "surface"
           }
          ],
          "table": [
           {
            "cells": {
             "fill": {
              "color": "#506784"
             },
             "line": {
              "color": "rgb(17,17,17)"
             }
            },
            "header": {
             "fill": {
              "color": "#2a3f5f"
             },
             "line": {
              "color": "rgb(17,17,17)"
             }
            },
            "type": "table"
           }
          ]
         },
         "layout": {
          "annotationdefaults": {
           "arrowcolor": "#f2f5fa",
           "arrowhead": 0,
           "arrowwidth": 1
          },
          "autotypenumbers": "strict",
          "coloraxis": {
           "colorbar": {
            "outlinewidth": 0,
            "ticks": ""
           }
          },
          "colorscale": {
           "diverging": [
            [
             0,
             "#8e0152"
            ],
            [
             0.1,
             "#c51b7d"
            ],
            [
             0.2,
             "#de77ae"
            ],
            [
             0.3,
             "#f1b6da"
            ],
            [
             0.4,
             "#fde0ef"
            ],
            [
             0.5,
             "#f7f7f7"
            ],
            [
             0.6,
             "#e6f5d0"
            ],
            [
             0.7,
             "#b8e186"
            ],
            [
             0.8,
             "#7fbc41"
            ],
            [
             0.9,
             "#4d9221"
            ],
            [
             1,
             "#276419"
            ]
           ],
           "sequential": [
            [
             0,
             "#0d0887"
            ],
            [
             0.1111111111111111,
             "#46039f"
            ],
            [
             0.2222222222222222,
             "#7201a8"
            ],
            [
             0.3333333333333333,
             "#9c179e"
            ],
            [
             0.4444444444444444,
             "#bd3786"
            ],
            [
             0.5555555555555556,
             "#d8576b"
            ],
            [
             0.6666666666666666,
             "#ed7953"
            ],
            [
             0.7777777777777778,
             "#fb9f3a"
            ],
            [
             0.8888888888888888,
             "#fdca26"
            ],
            [
             1,
             "#f0f921"
            ]
           ],
           "sequentialminus": [
            [
             0,
             "#0d0887"
            ],
            [
             0.1111111111111111,
             "#46039f"
            ],
            [
             0.2222222222222222,
             "#7201a8"
            ],
            [
             0.3333333333333333,
             "#9c179e"
            ],
            [
             0.4444444444444444,
             "#bd3786"
            ],
            [
             0.5555555555555556,
             "#d8576b"
            ],
            [
             0.6666666666666666,
             "#ed7953"
            ],
            [
             0.7777777777777778,
             "#fb9f3a"
            ],
            [
             0.8888888888888888,
             "#fdca26"
            ],
            [
             1,
             "#f0f921"
            ]
           ]
          },
          "colorway": [
           "#636efa",
           "#EF553B",
           "#00cc96",
           "#ab63fa",
           "#FFA15A",
           "#19d3f3",
           "#FF6692",
           "#B6E880",
           "#FF97FF",
           "#FECB52"
          ],
          "font": {
           "color": "#f2f5fa"
          },
          "geo": {
           "bgcolor": "rgb(17,17,17)",
           "lakecolor": "rgb(17,17,17)",
           "landcolor": "rgb(17,17,17)",
           "showlakes": true,
           "showland": true,
           "subunitcolor": "#506784"
          },
          "hoverlabel": {
           "align": "left"
          },
          "hovermode": "closest",
          "mapbox": {
           "style": "dark"
          },
          "paper_bgcolor": "rgb(17,17,17)",
          "plot_bgcolor": "rgb(17,17,17)",
          "polar": {
           "angularaxis": {
            "gridcolor": "#506784",
            "linecolor": "#506784",
            "ticks": ""
           },
           "bgcolor": "rgb(17,17,17)",
           "radialaxis": {
            "gridcolor": "#506784",
            "linecolor": "#506784",
            "ticks": ""
           }
          },
          "scene": {
           "xaxis": {
            "backgroundcolor": "rgb(17,17,17)",
            "gridcolor": "#506784",
            "gridwidth": 2,
            "linecolor": "#506784",
            "showbackground": true,
            "ticks": "",
            "zerolinecolor": "#C8D4E3"
           },
           "yaxis": {
            "backgroundcolor": "rgb(17,17,17)",
            "gridcolor": "#506784",
            "gridwidth": 2,
            "linecolor": "#506784",
            "showbackground": true,
            "ticks": "",
            "zerolinecolor": "#C8D4E3"
           },
           "zaxis": {
            "backgroundcolor": "rgb(17,17,17)",
            "gridcolor": "#506784",
            "gridwidth": 2,
            "linecolor": "#506784",
            "showbackground": true,
            "ticks": "",
            "zerolinecolor": "#C8D4E3"
           }
          },
          "shapedefaults": {
           "line": {
            "color": "#f2f5fa"
           }
          },
          "sliderdefaults": {
           "bgcolor": "#C8D4E3",
           "bordercolor": "rgb(17,17,17)",
           "borderwidth": 1,
           "tickwidth": 0
          },
          "ternary": {
           "aaxis": {
            "gridcolor": "#506784",
            "linecolor": "#506784",
            "ticks": ""
           },
           "baxis": {
            "gridcolor": "#506784",
            "linecolor": "#506784",
            "ticks": ""
           },
           "bgcolor": "rgb(17,17,17)",
           "caxis": {
            "gridcolor": "#506784",
            "linecolor": "#506784",
            "ticks": ""
           }
          },
          "title": {
           "x": 0.05
          },
          "updatemenudefaults": {
           "bgcolor": "#506784",
           "borderwidth": 0
          },
          "xaxis": {
           "automargin": true,
           "gridcolor": "#283442",
           "linecolor": "#506784",
           "ticks": "",
           "title": {
            "standoff": 15
           },
           "zerolinecolor": "#283442",
           "zerolinewidth": 2
          },
          "yaxis": {
           "automargin": true,
           "gridcolor": "#283442",
           "linecolor": "#506784",
           "ticks": "",
           "title": {
            "standoff": 15
           },
           "zerolinecolor": "#283442",
           "zerolinewidth": 2
          }
         }
        },
        "title": {
         "text": "Metrics per variant (Model | Prompt | Reasoning)"
        },
        "width": 1000,
        "xaxis": {
         "tickmode": "array",
         "ticktext": [
          "Precision",
          "Recall",
          "F1"
         ],
         "tickvals": {
          "bdata": "AAEC",
          "dtype": "i1"
         },
         "title": {
          "text": ""
         }
        },
        "yaxis": {
         "gridcolor": "#333333",
         "range": [
          0,
          1
         ],
         "title": {
          "text": "Mean score"
         }
        }
       }
      }
     },
     "metadata": {},
     "output_type": "display_data"
    }
   ],
   "source": [
    "import numpy as np\n",
    "import plotly.graph_objects as go\n",
    "\n",
    "# ----------------------------------------------------------\n",
    "# 1 – Colour palette + Plotly template\n",
    "# ----------------------------------------------------------\n",
    "\n",
    "DARK_MODE = True  # set to False for light theme\n",
    "\n",
    "PLOT_TEMPLATE = \"plotly_dark\" if DARK_MODE else \"plotly_white\"\n",
    "# Pastel palette supplied by user\n",
    "PASTEL_COLORS = [\n",
    "    \"#e7efff\",  # light blue\n",
    "    \"#ffefa4\",  # pastel yellow\n",
    "    \"#ffbfa4\",  # pastel salmon\n",
    "    \"#ebf5de\",  # pastel green\n",
    "    \"#fdedeb\",  # pastel pink\n",
    "]\n",
    "\n",
    "# ----------------------------------------------------------\n",
    "# 2 – Plotting\n",
    "# ----------------------------------------------------------\n",
    "if \"df\" in globals():\n",
    "    METRIC_MAP = {\n",
    "        \"level1_precision_mean\": (\"Precision\", \"level1_precision_std\"),\n",
    "        \"level1_recall_mean\":    (\"Recall\",    \"level1_recall_std\"),\n",
    "        \"level1_f1_python_mean\": (\"F1\",        \"level1_f1_python_std\"),\n",
    "    }\n",
    "    metric_names = [v[0] for v in METRIC_MAP.values()]\n",
    "    metric_cols  = list(METRIC_MAP.keys())\n",
    "\n",
    "    metric_idx = np.arange(len(metric_cols))  # numeric positions for categories\n",
    "\n",
    "    # Use the pastel palette in cyclic fashion\n",
    "\n",
    "    # Treat prompt as part of the variant label so everything appears in one chart\n",
    "    sub = df.copy()\n",
    "    sub[\"Variant\"] = sub.apply(\n",
    "        lambda r: f\"{r['Model']} | {r['Prompt']} | {r['Reasoning']}\", axis=1\n",
    "    )\n",
    "\n",
    "    variants = sub[\"Variant\"].tolist()\n",
    "    n_var    = len(variants)\n",
    "\n",
    "    fig = go.Figure()\n",
    "\n",
    "    bar_width = 0.8 / n_var  # width per bar so they fit in group\n",
    "\n",
    "    # No need to track max bar now – y-axis fixed to [0,1]\n",
    "\n",
    "    for idx, variant in enumerate(variants):\n",
    "        row   = sub[sub[\"Variant\"] == variant].iloc[0]\n",
    "        means = [row[c] for c in metric_cols]\n",
    "        errs  = [row[c.replace(\"_mean\", \"_std\")] for c in metric_cols]\n",
    "\n",
    "        # Compute x positions with offset\n",
    "        offset = (idx - (n_var - 1) / 2) * bar_width\n",
    "        x_pos = metric_idx + offset\n",
    "\n",
    "        err_col = \"#FFA500\"  # orange for visibility across themes\n",
    "\n",
    "        fig.add_bar(\n",
    "            x=x_pos,\n",
    "            y=means,\n",
    "            name=variant,\n",
    "            marker_color=PASTEL_COLORS[idx % len(PASTEL_COLORS)],\n",
    "            opacity=1.0,\n",
    "            error_y=dict(\n",
    "                type=\"data\",\n",
    "                array=errs,\n",
    "                visible=True,\n",
    "                color=err_col,\n",
    "                thickness=2,\n",
    "                width=3,\n",
    "            ),\n",
    "            # No direct text here; we'll use a separate scatter for labels\n",
    "            text=None,\n",
    "            width=bar_width,\n",
    "        )\n",
    "\n",
    "        # Add labels via separate scatter trace, positioning slightly above error bar but capped at 0.98\n",
    "        label_y = [min(0.98, m + e + 0.005) for m, e in zip(means, errs)]\n",
    "        fig.add_scatter(\n",
    "            x=x_pos,\n",
    "            y=label_y,\n",
    "            mode=\"text\",\n",
    "            text=[f\"{m:.2f}\" for m in means],\n",
    "            textposition=\"top center\",\n",
    "            textfont=dict(color=(\"#FFFFFF\" if DARK_MODE else \"#000000\"), size=12),\n",
    "            showlegend=False,\n",
    "            hoverinfo=\"skip\",\n",
    "        )\n",
    "\n",
    "\n",
    "    bg_color = \"#000000\" if DARK_MODE else \"#FFFFFF\"\n",
    "    grid_color = \"#333333\" if DARK_MODE else \"rgba(0,0,0,0.08)\"\n",
    "\n",
    "    upper_y = 1.0  # keep axis within [0,1]\n",
    "\n",
    "    fig.update_layout(\n",
    "        template=PLOT_TEMPLATE,\n",
    "        barmode=\"group\",\n",
    "        bargap=0.25,\n",
    "        title=\"Metrics per variant (Model | Prompt | Reasoning)\",\n",
    "        xaxis_title=\"\",\n",
    "        yaxis_title=\"Mean score\",\n",
    "        yaxis_range=[0, upper_y],\n",
    "        yaxis=dict(gridcolor=grid_color),\n",
    "        xaxis=dict(tickmode=\"array\", tickvals=metric_idx, ticktext=metric_names),\n",
    "        legend=dict(\n",
    "            orientation=\"h\",\n",
    "            y=-0.25,\n",
    "            x=0.5,\n",
    "            xanchor=\"center\",\n",
    "        ),\n",
    "        margin=dict(l=60, r=60, t=80, b=140),\n",
    "        height=600,\n",
    "        width=1000,\n",
    "        plot_bgcolor=bg_color,\n",
    "        paper_bgcolor=bg_color,\n",
    "        font=dict(family=\"Inter, sans-serif\", color=\"#FFFFFF\"),\n",
    "    )\n",
    "\n",
    "    fig.show()\n",
    "\n",
    "else:\n",
    "    print(\"Run the summary cell first to generate 'df' before plotting.\")\n"
   ]
  },
  {
   "cell_type": "markdown",
   "id": "05716f2a",
   "metadata": {},
   "source": [
    "Variances"
   ]
  },
  {
   "cell_type": "code",
   "execution_count": 6,
   "id": "8dccaa87",
   "metadata": {},
   "outputs": [
    {
     "data": {
      "application/vnd.plotly.v1+json": {
       "config": {
        "plotlyServerURL": "https://plot.ly"
       },
       "data": [
        {
         "error_y": {
          "array": {
           "bdata": "AAAAAAAAAAAdM5BFp3nSPwAAAAAAAAAAJ0TAXDSiuD8AAAAAAAAAAAAAAAAAAAAAAAAAAAAAAAAAAAAAAAAAACZEwFw0osg/Qko0AVY01j8kRMBcNKK4P8zFEogpS8A/AAAAAAAAAAAAAAAAAAAAAAAAAAAAAAAAHDOQRad50j8AAAAAAAAAABwzkEWnedI/KUTAXDSiqD8i0Jmw9rSzP8zFEogpS9A/J0TAXDSiyD8nRMBcNKLIPyDHcRzHccw/Q0o0AVY0xj9UVVVVVVXFP1RVVVVVVcU/VFVVVVVVxT9UVVVVVVXFPyDHcRzHcbw/IMdxHMdxvD8gx3Ecx3G8PyDHcRzHcbw/IMdxHMdxvD8gx3Ecx3G8P1hVVVVVVbU/AAAAAAAAAAAAAAAAAAAAAAAAAAAAAAAAAAAAAAAAAAAAAAAAAAAAAAAAAAAAAAAAAAAAAAAAAAAAAAAAAAAAAAAAAAAAAAAAAAAAAAAAAAAAAAAAAAAAAAAAAAAAAAAAAAAAAAAAAAAAAAAAAAAAAA==",
           "dtype": "f8"
          },
          "arrayminus": {
           "bdata": "AAAAAAAAAAAdM5BFp3nSPwAAAAAAAAAAJ0TAXDSiuD8AAAAAAAAAAAAAAAAAAAAAAAAAAAAAAAAAAAAAAAAAACZEwFw0osg/Qko0AVY01j8kRMBcNKK4P8zFEogpS8A/AAAAAAAAAAAAAAAAAAAAAAAAAAAAAAAAHDOQRad50j8AAAAAAAAAABwzkEWnedI/KUTAXDSiqD8i0Jmw9rSzP8zFEogpS9A/J0TAXDSiyD8nRMBcNKLIPyZEwFw0otg/Q0o0AVY0xj8cM5BFp3nSPxwzkEWnedI/HDOQRad50j8cM5BFp3nSPydEwFw0osg/J0TAXDSiyD8nRMBcNKLIPydEwFw0osg/J0TAXDSiyD8nRMBcNKLIPx0zkEWnecI/AAAAAAAAAAAAAAAAAAAAAAAAAAAAAAAAAAAAAAAAAAAAAAAAAAAAAAAAAAAAAAAAAAAAAAAAAAAAAAAAAAAAAAAAAAAAAAAAAAAAAAAAAAAAAAAAAAAAAAAAAAAAAAAAAAAAAAAAAAAAAAAAAAAAAA==",
           "dtype": "f8"
          },
          "color": "#666666",
          "thickness": 2
         },
         "hovertemplate": "sample_id=%{x}<br>mean=%{y}<extra></extra>",
         "legendgroup": "",
         "marker": {
          "color": "#86daff",
          "pattern": {
           "shape": ""
          }
         },
         "name": "Mean",
         "opacity": 0.5,
         "orientation": "v",
         "showlegend": true,
         "textposition": "auto",
         "type": "bar",
         "x": [
          "31",
          "33",
          "15",
          "43",
          "39",
          "28",
          "38",
          "12",
          "25",
          "29",
          "35",
          "4",
          "10",
          "16",
          "11",
          "14",
          "46",
          "49",
          "17",
          "37",
          "2",
          "26",
          "47",
          "32",
          "27",
          "0",
          "5",
          "23",
          "7",
          "40",
          "9",
          "1",
          "6",
          "45",
          "34",
          "21",
          "24",
          "3",
          "22",
          "20",
          "30",
          "18",
          "42",
          "44",
          "13",
          "36",
          "41",
          "8",
          "19",
          "48"
         ],
         "xaxis": "x",
         "y": {
          "bdata": "VVVVVVVV1T9VVVVVVVXVP1VVVVVVVdU/HMdxHMdx3D8AAAAAAADgPwAAAAAAAOA/AAAAAAAA4D8AAAAAAADgP3Ecx3Ecx+E/4ziO4ziO4z/jOI7jOI7jPxzHcRzHceQ/VVVVVVVV5T9VVVVVVVXlP1VVVVVVVeU/VVVVVVVV5T9VVVVVVVXlP1VVVVVVVeU/jeM4juM45j8XbMEWbMHmP8dxHMdxHOc/OI7jOI7j6D84juM4juPoPziO4ziO4+g/cRzHcRzH6T+rqqqqqqrqP6uqqqqqquo/q6qqqqqq6j+rqqqqqqrqPxzHcRzHcew/HMdxHMdx7D8cx3Ecx3HsPxzHcRzHcew/HMdxHMdx7D8cx3Ecx3HsP1VVVVVVVe0/AAAAAAAA8D8AAAAAAADwPwAAAAAAAPA/AAAAAAAA8D8AAAAAAADwPwAAAAAAAPA/AAAAAAAA8D8AAAAAAADwPwAAAAAAAPA/AAAAAAAA8D8AAAAAAADwPwAAAAAAAPA/AAAAAAAA8D8AAAAAAADwPw==",
          "dtype": "f8"
         },
         "yaxis": "y"
        },
        {
         "marker": {
          "color": "#0e315c",
          "line": {
           "width": 1.5
          },
          "size": 8,
          "symbol": "x-thin"
         },
         "mode": "markers",
         "name": "Max",
         "showlegend": true,
         "type": "scatter",
         "x": [
          "31",
          "33",
          "15",
          "43",
          "39",
          "28",
          "38",
          "12",
          "25",
          "29",
          "35",
          "4",
          "10",
          "16",
          "11",
          "14",
          "46",
          "49",
          "17",
          "37",
          "2",
          "26",
          "47",
          "32",
          "27",
          "0",
          "5",
          "23",
          "7",
          "40",
          "9",
          "1",
          "6",
          "45",
          "34",
          "21",
          "24",
          "3",
          "22",
          "20",
          "30",
          "18",
          "42",
          "44",
          "13",
          "36",
          "41",
          "8",
          "19",
          "48"
         ],
         "y": {
          "bdata": "VVVVVVVV1T8AAAAAAADgP1VVVVVVVdU/AAAAAAAA4D8AAAAAAADgPwAAAAAAAOA/AAAAAAAA4D8AAAAAAADgP1VVVVVVVeU/AAAAAAAA8D9VVVVVVVXlPwAAAAAAAOg/VVVVVVVV5T9VVVVVVVXlP1VVVVVVVeU/AAAAAAAA8D9VVVVVVVXlPwAAAAAAAPA/AAAAAAAA6D+amZmZmZnpPwAAAAAAAPA/AAAAAAAA8D8AAAAAAADwPwAAAAAAAPA/AAAAAAAA8D8AAAAAAADwPwAAAAAAAPA/AAAAAAAA8D8AAAAAAADwPwAAAAAAAPA/AAAAAAAA8D8AAAAAAADwPwAAAAAAAPA/AAAAAAAA8D8AAAAAAADwPwAAAAAAAPA/AAAAAAAA8D8AAAAAAADwPwAAAAAAAPA/AAAAAAAA8D8AAAAAAADwPwAAAAAAAPA/AAAAAAAA8D8AAAAAAADwPwAAAAAAAPA/AAAAAAAA8D8AAAAAAADwPwAAAAAAAPA/AAAAAAAA8D8AAAAAAADwPw==",
          "dtype": "f8"
         }
        },
        {
         "marker": {
          "color": "#666666",
          "size": 12,
          "symbol": "line-ns-open"
         },
         "mode": "markers",
         "name": "±1 σ",
         "showlegend": true,
         "type": "scatter",
         "x": [
          null
         ],
         "y": [
          null
         ]
        }
       ],
       "layout": {
        "annotations": [
         {
          "align": "right",
          "bgcolor": "rgba(255,255,255,0.8)",
          "bordercolor": "rgba(0,0,0,0.15)",
          "borderwidth": 1,
          "font": {
           "color": "#000000",
           "family": "Inter, sans-serif",
           "size": 12
          },
          "showarrow": false,
          "text": "overall μ = 0.774<br>mean(max) = 0.859<br>mean variance = 0.0269<br>#runs = 3",
          "x": 0.95,
          "xanchor": "right",
          "xref": "paper",
          "y": 0.02,
          "yanchor": "bottom",
          "yref": "paper"
         }
        ],
        "bargap": 0.25,
        "barmode": "relative",
        "font": {
         "color": "#000000",
         "family": "Inter, sans-serif"
        },
        "height": 600,
        "legend": {
         "bgcolor": "rgba(255,255,255,0.5)",
         "borderwidth": 0,
         "tracegroupgap": 0,
         "x": 0.01,
         "xanchor": "left",
         "y": 0.99,
         "yanchor": "top"
        },
        "margin": {
         "b": 120,
         "l": 60,
         "r": 60,
         "t": 80
        },
        "paper_bgcolor": "#ffffff",
        "plot_bgcolor": "#ffffff",
        "template": {
         "data": {
          "bar": [
           {
            "error_x": {
             "color": "#2a3f5f"
            },
            "error_y": {
             "color": "#2a3f5f"
            },
            "marker": {
             "line": {
              "color": "#E5ECF6",
              "width": 0.5
             },
             "pattern": {
              "fillmode": "overlay",
              "size": 10,
              "solidity": 0.2
             }
            },
            "type": "bar"
           }
          ],
          "barpolar": [
           {
            "marker": {
             "line": {
              "color": "#E5ECF6",
              "width": 0.5
             },
             "pattern": {
              "fillmode": "overlay",
              "size": 10,
              "solidity": 0.2
             }
            },
            "type": "barpolar"
           }
          ],
          "carpet": [
           {
            "aaxis": {
             "endlinecolor": "#2a3f5f",
             "gridcolor": "white",
             "linecolor": "white",
             "minorgridcolor": "white",
             "startlinecolor": "#2a3f5f"
            },
            "baxis": {
             "endlinecolor": "#2a3f5f",
             "gridcolor": "white",
             "linecolor": "white",
             "minorgridcolor": "white",
             "startlinecolor": "#2a3f5f"
            },
            "type": "carpet"
           }
          ],
          "choropleth": [
           {
            "colorbar": {
             "outlinewidth": 0,
             "ticks": ""
            },
            "type": "choropleth"
           }
          ],
          "contour": [
           {
            "colorbar": {
             "outlinewidth": 0,
             "ticks": ""
            },
            "colorscale": [
             [
              0,
              "#0d0887"
             ],
             [
              0.1111111111111111,
              "#46039f"
             ],
             [
              0.2222222222222222,
              "#7201a8"
             ],
             [
              0.3333333333333333,
              "#9c179e"
             ],
             [
              0.4444444444444444,
              "#bd3786"
             ],
             [
              0.5555555555555556,
              "#d8576b"
             ],
             [
              0.6666666666666666,
              "#ed7953"
             ],
             [
              0.7777777777777778,
              "#fb9f3a"
             ],
             [
              0.8888888888888888,
              "#fdca26"
             ],
             [
              1,
              "#f0f921"
             ]
            ],
            "type": "contour"
           }
          ],
          "contourcarpet": [
           {
            "colorbar": {
             "outlinewidth": 0,
             "ticks": ""
            },
            "type": "contourcarpet"
           }
          ],
          "heatmap": [
           {
            "colorbar": {
             "outlinewidth": 0,
             "ticks": ""
            },
            "colorscale": [
             [
              0,
              "#0d0887"
             ],
             [
              0.1111111111111111,
              "#46039f"
             ],
             [
              0.2222222222222222,
              "#7201a8"
             ],
             [
              0.3333333333333333,
              "#9c179e"
             ],
             [
              0.4444444444444444,
              "#bd3786"
             ],
             [
              0.5555555555555556,
              "#d8576b"
             ],
             [
              0.6666666666666666,
              "#ed7953"
             ],
             [
              0.7777777777777778,
              "#fb9f3a"
             ],
             [
              0.8888888888888888,
              "#fdca26"
             ],
             [
              1,
              "#f0f921"
             ]
            ],
            "type": "heatmap"
           }
          ],
          "histogram": [
           {
            "marker": {
             "pattern": {
              "fillmode": "overlay",
              "size": 10,
              "solidity": 0.2
             }
            },
            "type": "histogram"
           }
          ],
          "histogram2d": [
           {
            "colorbar": {
             "outlinewidth": 0,
             "ticks": ""
            },
            "colorscale": [
             [
              0,
              "#0d0887"
             ],
             [
              0.1111111111111111,
              "#46039f"
             ],
             [
              0.2222222222222222,
              "#7201a8"
             ],
             [
              0.3333333333333333,
              "#9c179e"
             ],
             [
              0.4444444444444444,
              "#bd3786"
             ],
             [
              0.5555555555555556,
              "#d8576b"
             ],
             [
              0.6666666666666666,
              "#ed7953"
             ],
             [
              0.7777777777777778,
              "#fb9f3a"
             ],
             [
              0.8888888888888888,
              "#fdca26"
             ],
             [
              1,
              "#f0f921"
             ]
            ],
            "type": "histogram2d"
           }
          ],
          "histogram2dcontour": [
           {
            "colorbar": {
             "outlinewidth": 0,
             "ticks": ""
            },
            "colorscale": [
             [
              0,
              "#0d0887"
             ],
             [
              0.1111111111111111,
              "#46039f"
             ],
             [
              0.2222222222222222,
              "#7201a8"
             ],
             [
              0.3333333333333333,
              "#9c179e"
             ],
             [
              0.4444444444444444,
              "#bd3786"
             ],
             [
              0.5555555555555556,
              "#d8576b"
             ],
             [
              0.6666666666666666,
              "#ed7953"
             ],
             [
              0.7777777777777778,
              "#fb9f3a"
             ],
             [
              0.8888888888888888,
              "#fdca26"
             ],
             [
              1,
              "#f0f921"
             ]
            ],
            "type": "histogram2dcontour"
           }
          ],
          "mesh3d": [
           {
            "colorbar": {
             "outlinewidth": 0,
             "ticks": ""
            },
            "type": "mesh3d"
           }
          ],
          "parcoords": [
           {
            "line": {
             "colorbar": {
              "outlinewidth": 0,
              "ticks": ""
             }
            },
            "type": "parcoords"
           }
          ],
          "pie": [
           {
            "automargin": true,
            "type": "pie"
           }
          ],
          "scatter": [
           {
            "fillpattern": {
             "fillmode": "overlay",
             "size": 10,
             "solidity": 0.2
            },
            "type": "scatter"
           }
          ],
          "scatter3d": [
           {
            "line": {
             "colorbar": {
              "outlinewidth": 0,
              "ticks": ""
             }
            },
            "marker": {
             "colorbar": {
              "outlinewidth": 0,
              "ticks": ""
             }
            },
            "type": "scatter3d"
           }
          ],
          "scattercarpet": [
           {
            "marker": {
             "colorbar": {
              "outlinewidth": 0,
              "ticks": ""
             }
            },
            "type": "scattercarpet"
           }
          ],
          "scattergeo": [
           {
            "marker": {
             "colorbar": {
              "outlinewidth": 0,
              "ticks": ""
             }
            },
            "type": "scattergeo"
           }
          ],
          "scattergl": [
           {
            "marker": {
             "colorbar": {
              "outlinewidth": 0,
              "ticks": ""
             }
            },
            "type": "scattergl"
           }
          ],
          "scattermap": [
           {
            "marker": {
             "colorbar": {
              "outlinewidth": 0,
              "ticks": ""
             }
            },
            "type": "scattermap"
           }
          ],
          "scattermapbox": [
           {
            "marker": {
             "colorbar": {
              "outlinewidth": 0,
              "ticks": ""
             }
            },
            "type": "scattermapbox"
           }
          ],
          "scatterpolar": [
           {
            "marker": {
             "colorbar": {
              "outlinewidth": 0,
              "ticks": ""
             }
            },
            "type": "scatterpolar"
           }
          ],
          "scatterpolargl": [
           {
            "marker": {
             "colorbar": {
              "outlinewidth": 0,
              "ticks": ""
             }
            },
            "type": "scatterpolargl"
           }
          ],
          "scatterternary": [
           {
            "marker": {
             "colorbar": {
              "outlinewidth": 0,
              "ticks": ""
             }
            },
            "type": "scatterternary"
           }
          ],
          "surface": [
           {
            "colorbar": {
             "outlinewidth": 0,
             "ticks": ""
            },
            "colorscale": [
             [
              0,
              "#0d0887"
             ],
             [
              0.1111111111111111,
              "#46039f"
             ],
             [
              0.2222222222222222,
              "#7201a8"
             ],
             [
              0.3333333333333333,
              "#9c179e"
             ],
             [
              0.4444444444444444,
              "#bd3786"
             ],
             [
              0.5555555555555556,
              "#d8576b"
             ],
             [
              0.6666666666666666,
              "#ed7953"
             ],
             [
              0.7777777777777778,
              "#fb9f3a"
             ],
             [
              0.8888888888888888,
              "#fdca26"
             ],
             [
              1,
              "#f0f921"
             ]
            ],
            "type": "surface"
           }
          ],
          "table": [
           {
            "cells": {
             "fill": {
              "color": "#EBF0F8"
             },
             "line": {
              "color": "white"
             }
            },
            "header": {
             "fill": {
              "color": "#C8D4E3"
             },
             "line": {
              "color": "white"
             }
            },
            "type": "table"
           }
          ]
         },
         "layout": {
          "annotationdefaults": {
           "arrowcolor": "#2a3f5f",
           "arrowhead": 0,
           "arrowwidth": 1
          },
          "autotypenumbers": "strict",
          "coloraxis": {
           "colorbar": {
            "outlinewidth": 0,
            "ticks": ""
           }
          },
          "colorscale": {
           "diverging": [
            [
             0,
             "#8e0152"
            ],
            [
             0.1,
             "#c51b7d"
            ],
            [
             0.2,
             "#de77ae"
            ],
            [
             0.3,
             "#f1b6da"
            ],
            [
             0.4,
             "#fde0ef"
            ],
            [
             0.5,
             "#f7f7f7"
            ],
            [
             0.6,
             "#e6f5d0"
            ],
            [
             0.7,
             "#b8e186"
            ],
            [
             0.8,
             "#7fbc41"
            ],
            [
             0.9,
             "#4d9221"
            ],
            [
             1,
             "#276419"
            ]
           ],
           "sequential": [
            [
             0,
             "#0d0887"
            ],
            [
             0.1111111111111111,
             "#46039f"
            ],
            [
             0.2222222222222222,
             "#7201a8"
            ],
            [
             0.3333333333333333,
             "#9c179e"
            ],
            [
             0.4444444444444444,
             "#bd3786"
            ],
            [
             0.5555555555555556,
             "#d8576b"
            ],
            [
             0.6666666666666666,
             "#ed7953"
            ],
            [
             0.7777777777777778,
             "#fb9f3a"
            ],
            [
             0.8888888888888888,
             "#fdca26"
            ],
            [
             1,
             "#f0f921"
            ]
           ],
           "sequentialminus": [
            [
             0,
             "#0d0887"
            ],
            [
             0.1111111111111111,
             "#46039f"
            ],
            [
             0.2222222222222222,
             "#7201a8"
            ],
            [
             0.3333333333333333,
             "#9c179e"
            ],
            [
             0.4444444444444444,
             "#bd3786"
            ],
            [
             0.5555555555555556,
             "#d8576b"
            ],
            [
             0.6666666666666666,
             "#ed7953"
            ],
            [
             0.7777777777777778,
             "#fb9f3a"
            ],
            [
             0.8888888888888888,
             "#fdca26"
            ],
            [
             1,
             "#f0f921"
            ]
           ]
          },
          "colorway": [
           "#636efa",
           "#EF553B",
           "#00cc96",
           "#ab63fa",
           "#FFA15A",
           "#19d3f3",
           "#FF6692",
           "#B6E880",
           "#FF97FF",
           "#FECB52"
          ],
          "font": {
           "color": "#2a3f5f"
          },
          "geo": {
           "bgcolor": "white",
           "lakecolor": "white",
           "landcolor": "#E5ECF6",
           "showlakes": true,
           "showland": true,
           "subunitcolor": "white"
          },
          "hoverlabel": {
           "align": "left"
          },
          "hovermode": "closest",
          "mapbox": {
           "style": "light"
          },
          "paper_bgcolor": "white",
          "plot_bgcolor": "#E5ECF6",
          "polar": {
           "angularaxis": {
            "gridcolor": "white",
            "linecolor": "white",
            "ticks": ""
           },
           "bgcolor": "#E5ECF6",
           "radialaxis": {
            "gridcolor": "white",
            "linecolor": "white",
            "ticks": ""
           }
          },
          "scene": {
           "xaxis": {
            "backgroundcolor": "#E5ECF6",
            "gridcolor": "white",
            "gridwidth": 2,
            "linecolor": "white",
            "showbackground": true,
            "ticks": "",
            "zerolinecolor": "white"
           },
           "yaxis": {
            "backgroundcolor": "#E5ECF6",
            "gridcolor": "white",
            "gridwidth": 2,
            "linecolor": "white",
            "showbackground": true,
            "ticks": "",
            "zerolinecolor": "white"
           },
           "zaxis": {
            "backgroundcolor": "#E5ECF6",
            "gridcolor": "white",
            "gridwidth": 2,
            "linecolor": "white",
            "showbackground": true,
            "ticks": "",
            "zerolinecolor": "white"
           }
          },
          "shapedefaults": {
           "line": {
            "color": "#2a3f5f"
           }
          },
          "ternary": {
           "aaxis": {
            "gridcolor": "white",
            "linecolor": "white",
            "ticks": ""
           },
           "baxis": {
            "gridcolor": "white",
            "linecolor": "white",
            "ticks": ""
           },
           "bgcolor": "#E5ECF6",
           "caxis": {
            "gridcolor": "white",
            "linecolor": "white",
            "ticks": ""
           }
          },
          "title": {
           "x": 0.05
          },
          "xaxis": {
           "automargin": true,
           "gridcolor": "white",
           "linecolor": "white",
           "ticks": "",
           "title": {
            "standoff": 15
           },
           "zerolinecolor": "white",
           "zerolinewidth": 2
          },
          "yaxis": {
           "automargin": true,
           "gridcolor": "white",
           "linecolor": "white",
           "ticks": "",
           "title": {
            "standoff": 15
           },
           "zerolinecolor": "white",
           "zerolinewidth": 2
          }
         }
        },
        "title": {
         "text": "Mean ± Std and Max per Sample – ft-model | v7 | level1_precision | re=low"
        },
        "width": 1200,
        "xaxis": {
         "anchor": "y",
         "domain": [
          0,
          1
         ],
         "showgrid": false,
         "tickangle": -90,
         "tickfont": {
          "size": 9
         },
         "title": {
          "text": "Sample id (ordered by mean)"
         }
        },
        "yaxis": {
         "anchor": "x",
         "domain": [
          0,
          1
         ],
         "gridcolor": "rgba(0,0,0,0.08)",
         "gridwidth": 0.5,
         "range": [
          0,
          1.05
         ],
         "showgrid": true,
         "title": {
          "text": "Score"
         }
        }
       }
      }
     },
     "metadata": {},
     "output_type": "display_data"
    },
    {
     "data": {
      "application/vnd.plotly.v1+json": {
       "config": {
        "plotlyServerURL": "https://plot.ly"
       },
       "data": [
        {
         "error_y": {
          "array": {
           "bdata": "AAAAAAAAAAAAAAAAAAAAAAAAAAAAAAAAAAAAAAAAAAAAAAAAAAAAAB0zkEWnedI/AAAAAAAAAAAAAAAAAAAAAAAAAAAAAAAALiEJFI6YkzwmRMBcNKLIPwAAAAAAAAAAAAAAAAAAAAAAAAAAAAAAAAAAAAAAAAAAAAAAAAAAAAAAAAAAAAAAAAAAAAAAANA/JkTAXDSiyD8mRMBcNKLIPyZEwFw0osg/JkTAXDSiyD8mRMBcNKLIPx0zkEWnecI/AAAAAAAAAAAAAAAAAAAAAB0zkEWnecI/AAAAAAAAAAAcM5BFp3nSPwAAAAAAAAAAAAAAAAAAAAAAAAAAAAAAAAAAAAAAAAAAVlVVVVVV1T8AAAAAAAAAAB0zkEWnecI/AAAAAAAAAAAAAAAAAADQPydEwFw0osg/VFVVVVVVxT9YVVVVVVW1PwAAAAAAAAAAAAAAAAAAAAAAAAAAAAAAAAAAAAAAAAAAAAAAAAAAAAAAAAAAAAAAAAAAAAAAAAAAAAAAAAAAAAAAAAAAAAAAAA==",
           "dtype": "f8"
          },
          "arrayminus": {
           "bdata": "AAAAAAAAAAAAAAAAAAAAAAAAAAAAAAAAAAAAAAAAAAAAAAAAAAAAAB0zkEWnedI/AAAAAAAAAAAAAAAAAAAAAAAAAAAAAAAALiEJFI6YkzwmRMBcNKLIPwAAAAAAAAAAAAAAAAAAAAAAAAAAAAAAAAAAAAAAAAAAAAAAAAAAAAAAAAAAAAAAAAAAAAAAANA/JkTAXDSiyD8mRMBcNKLIPyZEwFw0osg/JkTAXDSiyD8mRMBcNKLIPx0zkEWnecI/AAAAAAAAAAAAAAAAAAAAAB0zkEWnecI/AAAAAAAAAAAcM5BFp3nSPwAAAAAAAAAAAAAAAAAAAAAAAAAAAAAAAAAAAAAAAAAAVlVVVVVV1T8AAAAAAAAAAB0zkEWnecI/AAAAAAAAAAAAAAAAAADQPydEwFw0osg/HDOQRad50j8dM5BFp3nCPwAAAAAAAAAAAAAAAAAAAAAAAAAAAAAAAAAAAAAAAAAAAAAAAAAAAAAAAAAAAAAAAAAAAAAAAAAAAAAAAAAAAAAAAAAAAAAAAA==",
           "dtype": "f8"
          },
          "color": "#666666",
          "thickness": 2
         },
         "hovertemplate": "sample_id=%{x}<br>mean=%{y}<extra></extra>",
         "legendgroup": "",
         "marker": {
          "color": "#86daff",
          "pattern": {
           "shape": ""
          }
         },
         "name": "Mean",
         "opacity": 0.5,
         "orientation": "v",
         "showlegend": true,
         "textposition": "auto",
         "type": "bar",
         "x": [
          "39",
          "28",
          "15",
          "31",
          "5",
          "33",
          "43",
          "14",
          "12",
          "45",
          "37",
          "0",
          "30",
          "36",
          "26",
          "47",
          "49",
          "32",
          "24",
          "29",
          "2",
          "44",
          "35",
          "17",
          "10",
          "40",
          "27",
          "16",
          "18",
          "42",
          "1",
          "11",
          "13",
          "7",
          "19",
          "21",
          "34",
          "9",
          "4",
          "25",
          "20",
          "23",
          "3",
          "22",
          "38",
          "41",
          "8",
          "6",
          "46",
          "48"
         ],
         "xaxis": "x",
         "y": {
          "bdata": "AAAAAAAA0D8AAAAAAADQPwAAAAAAANA/VVVVVVVV1T9VVVVVVVXVP1VVVVVVVdU/VVVVVVVV1T9VVVVVVVXVP1VVVVVVVdU/m5mZmZmZ2T8cx3Ecx3HcPwAAAAAAAOA/AAAAAAAA4D8AAAAAAADgPwAAAAAAAOA/AAAAAAAA4D8AAAAAAADgPwAAAAAAAOA/cRzHcRzH4T9xHMdxHMfhP3Ecx3Ecx+E/cRzHcRzH4T9xHMdxHMfhP6uqqqqqquI/VVVVVVVV5T9VVVVVVVXlP1VVVVVVVeU/VVVVVVVV5T9VVVVVVVXlP1VVVVVVVeU/VVVVVVVV5T9VVVVVVVXlP1VVVVVVVeU/VVVVVVVV5T9VVVVVVVXlP1VVVVVVVeU/VVVVVVVV5T8AAAAAAADoPziO4ziO4+g/q6qqqqqq6j9VVVVVVVXtPwAAAAAAAPA/AAAAAAAA8D8AAAAAAADwPwAAAAAAAPA/AAAAAAAA8D8AAAAAAADwPwAAAAAAAPA/AAAAAAAA8D8AAAAAAADwPw==",
          "dtype": "f8"
         },
         "yaxis": "y"
        },
        {
         "marker": {
          "color": "#0e315c",
          "line": {
           "width": 1.5
          },
          "size": 8,
          "symbol": "x-thin"
         },
         "mode": "markers",
         "name": "Max",
         "showlegend": true,
         "type": "scatter",
         "x": [
          "39",
          "28",
          "15",
          "31",
          "5",
          "33",
          "43",
          "14",
          "12",
          "45",
          "37",
          "0",
          "30",
          "36",
          "26",
          "47",
          "49",
          "32",
          "24",
          "29",
          "2",
          "44",
          "35",
          "17",
          "10",
          "40",
          "27",
          "16",
          "18",
          "42",
          "1",
          "11",
          "13",
          "7",
          "19",
          "21",
          "34",
          "9",
          "4",
          "25",
          "20",
          "23",
          "3",
          "22",
          "38",
          "41",
          "8",
          "6",
          "46",
          "48"
         ],
         "y": {
          "bdata": "AAAAAAAA0D8AAAAAAADQPwAAAAAAANA/VVVVVVVV1T9VVVVVVVXVPwAAAAAAAOA/VVVVVVVV1T9VVVVVVVXVP1VVVVVVVdU/mpmZmZmZ2T9VVVVVVVXlPwAAAAAAAOA/AAAAAAAA4D8AAAAAAADgPwAAAAAAAOA/AAAAAAAA4D8AAAAAAADgPwAAAAAAAOg/VVVVVVVV5T9VVVVVVVXlP1VVVVVVVeU/VVVVVVVV5T9VVVVVVVXlPwAAAAAAAOg/VVVVVVVV5T9VVVVVVVXlPwAAAAAAAOg/VVVVVVVV5T8AAAAAAADwP1VVVVVVVeU/VVVVVVVV5T9VVVVVVVXlP1VVVVVVVeU/AAAAAAAA8D9VVVVVVVXlPwAAAAAAAOg/VVVVVVVV5T8AAAAAAADwPwAAAAAAAPA/AAAAAAAA8D8AAAAAAADwPwAAAAAAAPA/AAAAAAAA8D8AAAAAAADwPwAAAAAAAPA/AAAAAAAA8D8AAAAAAADwPwAAAAAAAPA/AAAAAAAA8D8AAAAAAADwPw==",
          "dtype": "f8"
         }
        },
        {
         "marker": {
          "color": "#666666",
          "size": 12,
          "symbol": "line-ns-open"
         },
         "mode": "markers",
         "name": "±1 σ",
         "showlegend": true,
         "type": "scatter",
         "x": [
          null
         ],
         "y": [
          null
         ]
        }
       ],
       "layout": {
        "annotations": [
         {
          "align": "right",
          "bgcolor": "rgba(255,255,255,0.8)",
          "bordercolor": "rgba(0,0,0,0.15)",
          "borderwidth": 1,
          "font": {
           "color": "#000000",
           "family": "Inter, sans-serif",
           "size": 12
          },
          "showarrow": false,
          "text": "overall μ = 0.628<br>mean(max) = 0.686<br>mean variance = 0.0166<br>#runs = 3",
          "x": 0.95,
          "xanchor": "right",
          "xref": "paper",
          "y": 0.02,
          "yanchor": "bottom",
          "yref": "paper"
         }
        ],
        "bargap": 0.25,
        "barmode": "relative",
        "font": {
         "color": "#000000",
         "family": "Inter, sans-serif"
        },
        "height": 600,
        "legend": {
         "bgcolor": "rgba(255,255,255,0.5)",
         "borderwidth": 0,
         "tracegroupgap": 0,
         "x": 0.01,
         "xanchor": "left",
         "y": 0.99,
         "yanchor": "top"
        },
        "margin": {
         "b": 120,
         "l": 60,
         "r": 60,
         "t": 80
        },
        "paper_bgcolor": "#ffffff",
        "plot_bgcolor": "#ffffff",
        "template": {
         "data": {
          "bar": [
           {
            "error_x": {
             "color": "#2a3f5f"
            },
            "error_y": {
             "color": "#2a3f5f"
            },
            "marker": {
             "line": {
              "color": "#E5ECF6",
              "width": 0.5
             },
             "pattern": {
              "fillmode": "overlay",
              "size": 10,
              "solidity": 0.2
             }
            },
            "type": "bar"
           }
          ],
          "barpolar": [
           {
            "marker": {
             "line": {
              "color": "#E5ECF6",
              "width": 0.5
             },
             "pattern": {
              "fillmode": "overlay",
              "size": 10,
              "solidity": 0.2
             }
            },
            "type": "barpolar"
           }
          ],
          "carpet": [
           {
            "aaxis": {
             "endlinecolor": "#2a3f5f",
             "gridcolor": "white",
             "linecolor": "white",
             "minorgridcolor": "white",
             "startlinecolor": "#2a3f5f"
            },
            "baxis": {
             "endlinecolor": "#2a3f5f",
             "gridcolor": "white",
             "linecolor": "white",
             "minorgridcolor": "white",
             "startlinecolor": "#2a3f5f"
            },
            "type": "carpet"
           }
          ],
          "choropleth": [
           {
            "colorbar": {
             "outlinewidth": 0,
             "ticks": ""
            },
            "type": "choropleth"
           }
          ],
          "contour": [
           {
            "colorbar": {
             "outlinewidth": 0,
             "ticks": ""
            },
            "colorscale": [
             [
              0,
              "#0d0887"
             ],
             [
              0.1111111111111111,
              "#46039f"
             ],
             [
              0.2222222222222222,
              "#7201a8"
             ],
             [
              0.3333333333333333,
              "#9c179e"
             ],
             [
              0.4444444444444444,
              "#bd3786"
             ],
             [
              0.5555555555555556,
              "#d8576b"
             ],
             [
              0.6666666666666666,
              "#ed7953"
             ],
             [
              0.7777777777777778,
              "#fb9f3a"
             ],
             [
              0.8888888888888888,
              "#fdca26"
             ],
             [
              1,
              "#f0f921"
             ]
            ],
            "type": "contour"
           }
          ],
          "contourcarpet": [
           {
            "colorbar": {
             "outlinewidth": 0,
             "ticks": ""
            },
            "type": "contourcarpet"
           }
          ],
          "heatmap": [
           {
            "colorbar": {
             "outlinewidth": 0,
             "ticks": ""
            },
            "colorscale": [
             [
              0,
              "#0d0887"
             ],
             [
              0.1111111111111111,
              "#46039f"
             ],
             [
              0.2222222222222222,
              "#7201a8"
             ],
             [
              0.3333333333333333,
              "#9c179e"
             ],
             [
              0.4444444444444444,
              "#bd3786"
             ],
             [
              0.5555555555555556,
              "#d8576b"
             ],
             [
              0.6666666666666666,
              "#ed7953"
             ],
             [
              0.7777777777777778,
              "#fb9f3a"
             ],
             [
              0.8888888888888888,
              "#fdca26"
             ],
             [
              1,
              "#f0f921"
             ]
            ],
            "type": "heatmap"
           }
          ],
          "histogram": [
           {
            "marker": {
             "pattern": {
              "fillmode": "overlay",
              "size": 10,
              "solidity": 0.2
             }
            },
            "type": "histogram"
           }
          ],
          "histogram2d": [
           {
            "colorbar": {
             "outlinewidth": 0,
             "ticks": ""
            },
            "colorscale": [
             [
              0,
              "#0d0887"
             ],
             [
              0.1111111111111111,
              "#46039f"
             ],
             [
              0.2222222222222222,
              "#7201a8"
             ],
             [
              0.3333333333333333,
              "#9c179e"
             ],
             [
              0.4444444444444444,
              "#bd3786"
             ],
             [
              0.5555555555555556,
              "#d8576b"
             ],
             [
              0.6666666666666666,
              "#ed7953"
             ],
             [
              0.7777777777777778,
              "#fb9f3a"
             ],
             [
              0.8888888888888888,
              "#fdca26"
             ],
             [
              1,
              "#f0f921"
             ]
            ],
            "type": "histogram2d"
           }
          ],
          "histogram2dcontour": [
           {
            "colorbar": {
             "outlinewidth": 0,
             "ticks": ""
            },
            "colorscale": [
             [
              0,
              "#0d0887"
             ],
             [
              0.1111111111111111,
              "#46039f"
             ],
             [
              0.2222222222222222,
              "#7201a8"
             ],
             [
              0.3333333333333333,
              "#9c179e"
             ],
             [
              0.4444444444444444,
              "#bd3786"
             ],
             [
              0.5555555555555556,
              "#d8576b"
             ],
             [
              0.6666666666666666,
              "#ed7953"
             ],
             [
              0.7777777777777778,
              "#fb9f3a"
             ],
             [
              0.8888888888888888,
              "#fdca26"
             ],
             [
              1,
              "#f0f921"
             ]
            ],
            "type": "histogram2dcontour"
           }
          ],
          "mesh3d": [
           {
            "colorbar": {
             "outlinewidth": 0,
             "ticks": ""
            },
            "type": "mesh3d"
           }
          ],
          "parcoords": [
           {
            "line": {
             "colorbar": {
              "outlinewidth": 0,
              "ticks": ""
             }
            },
            "type": "parcoords"
           }
          ],
          "pie": [
           {
            "automargin": true,
            "type": "pie"
           }
          ],
          "scatter": [
           {
            "fillpattern": {
             "fillmode": "overlay",
             "size": 10,
             "solidity": 0.2
            },
            "type": "scatter"
           }
          ],
          "scatter3d": [
           {
            "line": {
             "colorbar": {
              "outlinewidth": 0,
              "ticks": ""
             }
            },
            "marker": {
             "colorbar": {
              "outlinewidth": 0,
              "ticks": ""
             }
            },
            "type": "scatter3d"
           }
          ],
          "scattercarpet": [
           {
            "marker": {
             "colorbar": {
              "outlinewidth": 0,
              "ticks": ""
             }
            },
            "type": "scattercarpet"
           }
          ],
          "scattergeo": [
           {
            "marker": {
             "colorbar": {
              "outlinewidth": 0,
              "ticks": ""
             }
            },
            "type": "scattergeo"
           }
          ],
          "scattergl": [
           {
            "marker": {
             "colorbar": {
              "outlinewidth": 0,
              "ticks": ""
             }
            },
            "type": "scattergl"
           }
          ],
          "scattermap": [
           {
            "marker": {
             "colorbar": {
              "outlinewidth": 0,
              "ticks": ""
             }
            },
            "type": "scattermap"
           }
          ],
          "scattermapbox": [
           {
            "marker": {
             "colorbar": {
              "outlinewidth": 0,
              "ticks": ""
             }
            },
            "type": "scattermapbox"
           }
          ],
          "scatterpolar": [
           {
            "marker": {
             "colorbar": {
              "outlinewidth": 0,
              "ticks": ""
             }
            },
            "type": "scatterpolar"
           }
          ],
          "scatterpolargl": [
           {
            "marker": {
             "colorbar": {
              "outlinewidth": 0,
              "ticks": ""
             }
            },
            "type": "scatterpolargl"
           }
          ],
          "scatterternary": [
           {
            "marker": {
             "colorbar": {
              "outlinewidth": 0,
              "ticks": ""
             }
            },
            "type": "scatterternary"
           }
          ],
          "surface": [
           {
            "colorbar": {
             "outlinewidth": 0,
             "ticks": ""
            },
            "colorscale": [
             [
              0,
              "#0d0887"
             ],
             [
              0.1111111111111111,
              "#46039f"
             ],
             [
              0.2222222222222222,
              "#7201a8"
             ],
             [
              0.3333333333333333,
              "#9c179e"
             ],
             [
              0.4444444444444444,
              "#bd3786"
             ],
             [
              0.5555555555555556,
              "#d8576b"
             ],
             [
              0.6666666666666666,
              "#ed7953"
             ],
             [
              0.7777777777777778,
              "#fb9f3a"
             ],
             [
              0.8888888888888888,
              "#fdca26"
             ],
             [
              1,
              "#f0f921"
             ]
            ],
            "type": "surface"
           }
          ],
          "table": [
           {
            "cells": {
             "fill": {
              "color": "#EBF0F8"
             },
             "line": {
              "color": "white"
             }
            },
            "header": {
             "fill": {
              "color": "#C8D4E3"
             },
             "line": {
              "color": "white"
             }
            },
            "type": "table"
           }
          ]
         },
         "layout": {
          "annotationdefaults": {
           "arrowcolor": "#2a3f5f",
           "arrowhead": 0,
           "arrowwidth": 1
          },
          "autotypenumbers": "strict",
          "coloraxis": {
           "colorbar": {
            "outlinewidth": 0,
            "ticks": ""
           }
          },
          "colorscale": {
           "diverging": [
            [
             0,
             "#8e0152"
            ],
            [
             0.1,
             "#c51b7d"
            ],
            [
             0.2,
             "#de77ae"
            ],
            [
             0.3,
             "#f1b6da"
            ],
            [
             0.4,
             "#fde0ef"
            ],
            [
             0.5,
             "#f7f7f7"
            ],
            [
             0.6,
             "#e6f5d0"
            ],
            [
             0.7,
             "#b8e186"
            ],
            [
             0.8,
             "#7fbc41"
            ],
            [
             0.9,
             "#4d9221"
            ],
            [
             1,
             "#276419"
            ]
           ],
           "sequential": [
            [
             0,
             "#0d0887"
            ],
            [
             0.1111111111111111,
             "#46039f"
            ],
            [
             0.2222222222222222,
             "#7201a8"
            ],
            [
             0.3333333333333333,
             "#9c179e"
            ],
            [
             0.4444444444444444,
             "#bd3786"
            ],
            [
             0.5555555555555556,
             "#d8576b"
            ],
            [
             0.6666666666666666,
             "#ed7953"
            ],
            [
             0.7777777777777778,
             "#fb9f3a"
            ],
            [
             0.8888888888888888,
             "#fdca26"
            ],
            [
             1,
             "#f0f921"
            ]
           ],
           "sequentialminus": [
            [
             0,
             "#0d0887"
            ],
            [
             0.1111111111111111,
             "#46039f"
            ],
            [
             0.2222222222222222,
             "#7201a8"
            ],
            [
             0.3333333333333333,
             "#9c179e"
            ],
            [
             0.4444444444444444,
             "#bd3786"
            ],
            [
             0.5555555555555556,
             "#d8576b"
            ],
            [
             0.6666666666666666,
             "#ed7953"
            ],
            [
             0.7777777777777778,
             "#fb9f3a"
            ],
            [
             0.8888888888888888,
             "#fdca26"
            ],
            [
             1,
             "#f0f921"
            ]
           ]
          },
          "colorway": [
           "#636efa",
           "#EF553B",
           "#00cc96",
           "#ab63fa",
           "#FFA15A",
           "#19d3f3",
           "#FF6692",
           "#B6E880",
           "#FF97FF",
           "#FECB52"
          ],
          "font": {
           "color": "#2a3f5f"
          },
          "geo": {
           "bgcolor": "white",
           "lakecolor": "white",
           "landcolor": "#E5ECF6",
           "showlakes": true,
           "showland": true,
           "subunitcolor": "white"
          },
          "hoverlabel": {
           "align": "left"
          },
          "hovermode": "closest",
          "mapbox": {
           "style": "light"
          },
          "paper_bgcolor": "white",
          "plot_bgcolor": "#E5ECF6",
          "polar": {
           "angularaxis": {
            "gridcolor": "white",
            "linecolor": "white",
            "ticks": ""
           },
           "bgcolor": "#E5ECF6",
           "radialaxis": {
            "gridcolor": "white",
            "linecolor": "white",
            "ticks": ""
           }
          },
          "scene": {
           "xaxis": {
            "backgroundcolor": "#E5ECF6",
            "gridcolor": "white",
            "gridwidth": 2,
            "linecolor": "white",
            "showbackground": true,
            "ticks": "",
            "zerolinecolor": "white"
           },
           "yaxis": {
            "backgroundcolor": "#E5ECF6",
            "gridcolor": "white",
            "gridwidth": 2,
            "linecolor": "white",
            "showbackground": true,
            "ticks": "",
            "zerolinecolor": "white"
           },
           "zaxis": {
            "backgroundcolor": "#E5ECF6",
            "gridcolor": "white",
            "gridwidth": 2,
            "linecolor": "white",
            "showbackground": true,
            "ticks": "",
            "zerolinecolor": "white"
           }
          },
          "shapedefaults": {
           "line": {
            "color": "#2a3f5f"
           }
          },
          "ternary": {
           "aaxis": {
            "gridcolor": "white",
            "linecolor": "white",
            "ticks": ""
           },
           "baxis": {
            "gridcolor": "white",
            "linecolor": "white",
            "ticks": ""
           },
           "bgcolor": "#E5ECF6",
           "caxis": {
            "gridcolor": "white",
            "linecolor": "white",
            "ticks": ""
           }
          },
          "title": {
           "x": 0.05
          },
          "xaxis": {
           "automargin": true,
           "gridcolor": "white",
           "linecolor": "white",
           "ticks": "",
           "title": {
            "standoff": 15
           },
           "zerolinecolor": "white",
           "zerolinewidth": 2
          },
          "yaxis": {
           "automargin": true,
           "gridcolor": "white",
           "linecolor": "white",
           "ticks": "",
           "title": {
            "standoff": 15
           },
           "zerolinecolor": "white",
           "zerolinewidth": 2
          }
         }
        },
        "title": {
         "text": "Mean ± Std and Max per Sample – ft-model | v7 | level1_recall | re=low"
        },
        "width": 1200,
        "xaxis": {
         "anchor": "y",
         "domain": [
          0,
          1
         ],
         "showgrid": false,
         "tickangle": -90,
         "tickfont": {
          "size": 9
         },
         "title": {
          "text": "Sample id (ordered by mean)"
         }
        },
        "yaxis": {
         "anchor": "x",
         "domain": [
          0,
          1
         ],
         "gridcolor": "rgba(0,0,0,0.08)",
         "gridwidth": 0.5,
         "range": [
          0,
          1.05
         ],
         "showgrid": true,
         "title": {
          "text": "Score"
         }
        }
       }
      }
     },
     "metadata": {},
     "output_type": "display_data"
    },
    {
     "data": {
      "application/vnd.plotly.v1+json": {
       "config": {
        "plotlyServerURL": "https://plot.ly"
       },
       "data": [
        {
         "error_y": {
          "array": {
           "bdata": "AAAAAAAAAAAAAAAAAAAAAAAAAAAAAAAAAAAAAAAAAAAdM5BFp3nSPyLQmbD2tKM/LiEJFI6YkzwruOYIco+tPyy45ghyj60/iyKjELjmxD+VgxJ0UR2lPyREwFw0org/MwBbu2XezT8d0Jmw9rTDP3q9p+QKn9I/swRuRRcnrD+zBG5FFyesPyREwFw0org/E9bqDNwRyj9uJBfRpWS6PwAAAAAAAAAAAAAAAAAAAAAAAAAAAAAAAAAAAAAAAAAALrjmCHKPzT8AAAAAAAAAAAAAAAAAAAAAeb2n5Aqfwj8jCq2GlSvGPyMKrYaVK8Y/GjOQRad5wj8QERERERHRPyLQmbD2tLM/ItCZsPa0sz8i0Jmw9rSzPyoYCrXBcbg/J0TAXDSiyD8uIQkUjpijPC4hCRSOmKM8LiEJFI6YozwuIQkUjpijPBSGYRiGYcg/IMdxHMdxvD8YERERERGxPxCGYRiGYag/AAAAAAAAAAAAAAAAAAAAAAAAAAAAAAAAAAAAAAAAAAAAAAAAAAAAAA==",
           "dtype": "f8"
          },
          "arrayminus": {
           "bdata": "AAAAAAAAAAAAAAAAAAAAAAAAAAAAAAAAAAAAAAAAAAAdM5BFp3nSPyLQmbD2tKM/LiEJFI6YkzwruOYIco+tPyy45ghyj60/iyKjELjmxD+VgxJ0UR2lPyREwFw0org/MwBbu2XezT8d0Jmw9rTDP3q9p+QKn9I/swRuRRcnrD+zBG5FFyesPyREwFw0org/E9bqDNwRyj9uJBfRpWS6PwAAAAAAAAAAAAAAAAAAAAAAAAAAAAAAAAAAAAAAAAAALrjmCHKPzT8AAAAAAAAAAAAAAAAAAAAAeb2n5Aqfwj8jCq2GlSvGPyMKrYaVK8Y/GjOQRad5wj+OILAJZY3TPyLQmbD2tLM/ItCZsPa0sz8i0Jmw9rSzPyoYCrXBcbg/J0TAXDSiyD8uIQkUjpijPC4hCRSOmKM8LiEJFI6YozwuIQkUjpijPDec+1aQ7ss/J0TAXDSiyD8suOYIco+9P5CDEnRRHbU/AAAAAAAAAAAAAAAAAAAAAAAAAAAAAAAAAAAAAAAAAAAAAAAAAAAAAA==",
           "dtype": "f8"
          },
          "color": "#666666",
          "thickness": 2
         },
         "hovertemplate": "sample_id=%{x}<br>mean=%{y}<extra></extra>",
         "legendgroup": "",
         "marker": {
          "color": "#86daff",
          "pattern": {
           "shape": ""
          }
         },
         "name": "Mean",
         "opacity": 0.5,
         "orientation": "v",
         "showlegend": true,
         "textposition": "auto",
         "type": "bar",
         "x": [
          "15",
          "31",
          "39",
          "28",
          "33",
          "43",
          "12",
          "14",
          "5",
          "37",
          "45",
          "49",
          "29",
          "35",
          "32",
          "26",
          "47",
          "0",
          "2",
          "17",
          "10",
          "16",
          "30",
          "38",
          "25",
          "11",
          "36",
          "4",
          "24",
          "44",
          "27",
          "7",
          "40",
          "1",
          "34",
          "21",
          "18",
          "42",
          "13",
          "19",
          "46",
          "9",
          "23",
          "6",
          "20",
          "3",
          "22",
          "41",
          "8",
          "48"
         ],
         "xaxis": "x",
         "y": {
          "bdata": "kyRJkiRJ0j9VVVVVVVXVP1VVVVVVVdU/VVVVVVVV1T9VVVVVVVXVP9iCLdiCLdg/m5mZmZmZ2T+8u7u7u7vbP93d3d3d3d0/dp/v2jI94T9jGIZhGIbhP3Ecx3Ecx+E/8yIv8iIv4j/TJ33SJ33iP9M0TdM0TeM/1DRN0zRN4z/UNE3TNE3jP+M4juM4juM/lD7pkz7p4z8NwzAMwzDkP1VVVVVVVeU/VVVVVVVV5T9VVVVVVVXlP1VVVVVVVeU/VVVVVVVV5T9VVVVVVVXlP1VVVVVVVeU/l2VZlmVZ5j9nZmZmZmbmP2dmZmZmZuY/0PM8z/M85z94d3d3d3fnP9iCLdiCLeg/2IIt2IIt6D/Ygi3Ygi3oPxAEQRAEQeg/OI7jOI7j6D+bmZmZmZnpP5uZmZmZmek/m5mZmZmZ6T+bmZmZmZnpP3ue53me5+k/HMdxHMdx7D/d3d3d3d3tP5/neZ7nee4/AAAAAAAA8D8AAAAAAADwPwAAAAAAAPA/AAAAAAAA8D8AAAAAAADwPw==",
          "dtype": "f8"
         },
         "yaxis": "y"
        },
        {
         "marker": {
          "color": "#0e315c",
          "line": {
           "width": 1.5
          },
          "size": 8,
          "symbol": "x-thin"
         },
         "mode": "markers",
         "name": "Max",
         "showlegend": true,
         "type": "scatter",
         "x": [
          "15",
          "31",
          "39",
          "28",
          "33",
          "43",
          "12",
          "14",
          "5",
          "37",
          "45",
          "49",
          "29",
          "35",
          "32",
          "26",
          "47",
          "0",
          "2",
          "17",
          "10",
          "16",
          "30",
          "38",
          "25",
          "11",
          "36",
          "4",
          "24",
          "44",
          "27",
          "7",
          "40",
          "1",
          "34",
          "21",
          "18",
          "42",
          "13",
          "19",
          "46",
          "9",
          "23",
          "6",
          "20",
          "3",
          "22",
          "41",
          "8",
          "48"
         ],
         "y": {
          "bdata": "kyRJkiRJ0j9VVVVVVVXVP1VVVVVVVdU/VVVVVVVV1T8AAAAAAADgP5qZmZmZmdk/mpmZmZmZ2T8AAAAAAADgPwAAAAAAAOA/RRdddNFF5z+TJEmSJEniP1VVVVVVVeU/mpmZmZmZ6T9VVVVVVVXlP9u2bdu2bes/VVVVVVVV5T9VVVVVVVXlP1VVVVVVVeU/mpmZmZmZ6T8AAAAAAADoP1VVVVVVVeU/VVVVVVVV5T9VVVVVVVXlP1VVVVVVVeU/mpmZmZmZ6T9VVVVVVVXlP1VVVVVVVeU/27Zt27Zt6z+amZmZmZnpP5qZmZmZmek/27Zt27Zt6z8AAAAAAADwP5qZmZmZmek/mpmZmZmZ6T+amZmZmZnpP9u2bdu2bes/AAAAAAAA8D+amZmZmZnpP5qZmZmZmek/mpmZmZmZ6T+amZmZmZnpPwAAAAAAAPA/AAAAAAAA8D8AAAAAAADwPwAAAAAAAPA/AAAAAAAA8D8AAAAAAADwPwAAAAAAAPA/AAAAAAAA8D8AAAAAAADwPw==",
          "dtype": "f8"
         }
        },
        {
         "marker": {
          "color": "#666666",
          "size": 12,
          "symbol": "line-ns-open"
         },
         "mode": "markers",
         "name": "±1 σ",
         "showlegend": true,
         "type": "scatter",
         "x": [
          null
         ],
         "y": [
          null
         ]
        }
       ],
       "layout": {
        "annotations": [
         {
          "align": "right",
          "bgcolor": "rgba(255,255,255,0.8)",
          "bordercolor": "rgba(0,0,0,0.15)",
          "borderwidth": 1,
          "font": {
           "color": "#000000",
           "family": "Inter, sans-serif",
           "size": 12
          },
          "showarrow": false,
          "text": "overall μ = 0.671<br>mean(max) = 0.740<br>mean variance = 0.0155<br>#runs = 3",
          "x": 0.95,
          "xanchor": "right",
          "xref": "paper",
          "y": 0.02,
          "yanchor": "bottom",
          "yref": "paper"
         }
        ],
        "bargap": 0.25,
        "barmode": "relative",
        "font": {
         "color": "#000000",
         "family": "Inter, sans-serif"
        },
        "height": 600,
        "legend": {
         "bgcolor": "rgba(255,255,255,0.5)",
         "borderwidth": 0,
         "tracegroupgap": 0,
         "x": 0.01,
         "xanchor": "left",
         "y": 0.99,
         "yanchor": "top"
        },
        "margin": {
         "b": 120,
         "l": 60,
         "r": 60,
         "t": 80
        },
        "paper_bgcolor": "#ffffff",
        "plot_bgcolor": "#ffffff",
        "template": {
         "data": {
          "bar": [
           {
            "error_x": {
             "color": "#2a3f5f"
            },
            "error_y": {
             "color": "#2a3f5f"
            },
            "marker": {
             "line": {
              "color": "#E5ECF6",
              "width": 0.5
             },
             "pattern": {
              "fillmode": "overlay",
              "size": 10,
              "solidity": 0.2
             }
            },
            "type": "bar"
           }
          ],
          "barpolar": [
           {
            "marker": {
             "line": {
              "color": "#E5ECF6",
              "width": 0.5
             },
             "pattern": {
              "fillmode": "overlay",
              "size": 10,
              "solidity": 0.2
             }
            },
            "type": "barpolar"
           }
          ],
          "carpet": [
           {
            "aaxis": {
             "endlinecolor": "#2a3f5f",
             "gridcolor": "white",
             "linecolor": "white",
             "minorgridcolor": "white",
             "startlinecolor": "#2a3f5f"
            },
            "baxis": {
             "endlinecolor": "#2a3f5f",
             "gridcolor": "white",
             "linecolor": "white",
             "minorgridcolor": "white",
             "startlinecolor": "#2a3f5f"
            },
            "type": "carpet"
           }
          ],
          "choropleth": [
           {
            "colorbar": {
             "outlinewidth": 0,
             "ticks": ""
            },
            "type": "choropleth"
           }
          ],
          "contour": [
           {
            "colorbar": {
             "outlinewidth": 0,
             "ticks": ""
            },
            "colorscale": [
             [
              0,
              "#0d0887"
             ],
             [
              0.1111111111111111,
              "#46039f"
             ],
             [
              0.2222222222222222,
              "#7201a8"
             ],
             [
              0.3333333333333333,
              "#9c179e"
             ],
             [
              0.4444444444444444,
              "#bd3786"
             ],
             [
              0.5555555555555556,
              "#d8576b"
             ],
             [
              0.6666666666666666,
              "#ed7953"
             ],
             [
              0.7777777777777778,
              "#fb9f3a"
             ],
             [
              0.8888888888888888,
              "#fdca26"
             ],
             [
              1,
              "#f0f921"
             ]
            ],
            "type": "contour"
           }
          ],
          "contourcarpet": [
           {
            "colorbar": {
             "outlinewidth": 0,
             "ticks": ""
            },
            "type": "contourcarpet"
           }
          ],
          "heatmap": [
           {
            "colorbar": {
             "outlinewidth": 0,
             "ticks": ""
            },
            "colorscale": [
             [
              0,
              "#0d0887"
             ],
             [
              0.1111111111111111,
              "#46039f"
             ],
             [
              0.2222222222222222,
              "#7201a8"
             ],
             [
              0.3333333333333333,
              "#9c179e"
             ],
             [
              0.4444444444444444,
              "#bd3786"
             ],
             [
              0.5555555555555556,
              "#d8576b"
             ],
             [
              0.6666666666666666,
              "#ed7953"
             ],
             [
              0.7777777777777778,
              "#fb9f3a"
             ],
             [
              0.8888888888888888,
              "#fdca26"
             ],
             [
              1,
              "#f0f921"
             ]
            ],
            "type": "heatmap"
           }
          ],
          "histogram": [
           {
            "marker": {
             "pattern": {
              "fillmode": "overlay",
              "size": 10,
              "solidity": 0.2
             }
            },
            "type": "histogram"
           }
          ],
          "histogram2d": [
           {
            "colorbar": {
             "outlinewidth": 0,
             "ticks": ""
            },
            "colorscale": [
             [
              0,
              "#0d0887"
             ],
             [
              0.1111111111111111,
              "#46039f"
             ],
             [
              0.2222222222222222,
              "#7201a8"
             ],
             [
              0.3333333333333333,
              "#9c179e"
             ],
             [
              0.4444444444444444,
              "#bd3786"
             ],
             [
              0.5555555555555556,
              "#d8576b"
             ],
             [
              0.6666666666666666,
              "#ed7953"
             ],
             [
              0.7777777777777778,
              "#fb9f3a"
             ],
             [
              0.8888888888888888,
              "#fdca26"
             ],
             [
              1,
              "#f0f921"
             ]
            ],
            "type": "histogram2d"
           }
          ],
          "histogram2dcontour": [
           {
            "colorbar": {
             "outlinewidth": 0,
             "ticks": ""
            },
            "colorscale": [
             [
              0,
              "#0d0887"
             ],
             [
              0.1111111111111111,
              "#46039f"
             ],
             [
              0.2222222222222222,
              "#7201a8"
             ],
             [
              0.3333333333333333,
              "#9c179e"
             ],
             [
              0.4444444444444444,
              "#bd3786"
             ],
             [
              0.5555555555555556,
              "#d8576b"
             ],
             [
              0.6666666666666666,
              "#ed7953"
             ],
             [
              0.7777777777777778,
              "#fb9f3a"
             ],
             [
              0.8888888888888888,
              "#fdca26"
             ],
             [
              1,
              "#f0f921"
             ]
            ],
            "type": "histogram2dcontour"
           }
          ],
          "mesh3d": [
           {
            "colorbar": {
             "outlinewidth": 0,
             "ticks": ""
            },
            "type": "mesh3d"
           }
          ],
          "parcoords": [
           {
            "line": {
             "colorbar": {
              "outlinewidth": 0,
              "ticks": ""
             }
            },
            "type": "parcoords"
           }
          ],
          "pie": [
           {
            "automargin": true,
            "type": "pie"
           }
          ],
          "scatter": [
           {
            "fillpattern": {
             "fillmode": "overlay",
             "size": 10,
             "solidity": 0.2
            },
            "type": "scatter"
           }
          ],
          "scatter3d": [
           {
            "line": {
             "colorbar": {
              "outlinewidth": 0,
              "ticks": ""
             }
            },
            "marker": {
             "colorbar": {
              "outlinewidth": 0,
              "ticks": ""
             }
            },
            "type": "scatter3d"
           }
          ],
          "scattercarpet": [
           {
            "marker": {
             "colorbar": {
              "outlinewidth": 0,
              "ticks": ""
             }
            },
            "type": "scattercarpet"
           }
          ],
          "scattergeo": [
           {
            "marker": {
             "colorbar": {
              "outlinewidth": 0,
              "ticks": ""
             }
            },
            "type": "scattergeo"
           }
          ],
          "scattergl": [
           {
            "marker": {
             "colorbar": {
              "outlinewidth": 0,
              "ticks": ""
             }
            },
            "type": "scattergl"
           }
          ],
          "scattermap": [
           {
            "marker": {
             "colorbar": {
              "outlinewidth": 0,
              "ticks": ""
             }
            },
            "type": "scattermap"
           }
          ],
          "scattermapbox": [
           {
            "marker": {
             "colorbar": {
              "outlinewidth": 0,
              "ticks": ""
             }
            },
            "type": "scattermapbox"
           }
          ],
          "scatterpolar": [
           {
            "marker": {
             "colorbar": {
              "outlinewidth": 0,
              "ticks": ""
             }
            },
            "type": "scatterpolar"
           }
          ],
          "scatterpolargl": [
           {
            "marker": {
             "colorbar": {
              "outlinewidth": 0,
              "ticks": ""
             }
            },
            "type": "scatterpolargl"
           }
          ],
          "scatterternary": [
           {
            "marker": {
             "colorbar": {
              "outlinewidth": 0,
              "ticks": ""
             }
            },
            "type": "scatterternary"
           }
          ],
          "surface": [
           {
            "colorbar": {
             "outlinewidth": 0,
             "ticks": ""
            },
            "colorscale": [
             [
              0,
              "#0d0887"
             ],
             [
              0.1111111111111111,
              "#46039f"
             ],
             [
              0.2222222222222222,
              "#7201a8"
             ],
             [
              0.3333333333333333,
              "#9c179e"
             ],
             [
              0.4444444444444444,
              "#bd3786"
             ],
             [
              0.5555555555555556,
              "#d8576b"
             ],
             [
              0.6666666666666666,
              "#ed7953"
             ],
             [
              0.7777777777777778,
              "#fb9f3a"
             ],
             [
              0.8888888888888888,
              "#fdca26"
             ],
             [
              1,
              "#f0f921"
             ]
            ],
            "type": "surface"
           }
          ],
          "table": [
           {
            "cells": {
             "fill": {
              "color": "#EBF0F8"
             },
             "line": {
              "color": "white"
             }
            },
            "header": {
             "fill": {
              "color": "#C8D4E3"
             },
             "line": {
              "color": "white"
             }
            },
            "type": "table"
           }
          ]
         },
         "layout": {
          "annotationdefaults": {
           "arrowcolor": "#2a3f5f",
           "arrowhead": 0,
           "arrowwidth": 1
          },
          "autotypenumbers": "strict",
          "coloraxis": {
           "colorbar": {
            "outlinewidth": 0,
            "ticks": ""
           }
          },
          "colorscale": {
           "diverging": [
            [
             0,
             "#8e0152"
            ],
            [
             0.1,
             "#c51b7d"
            ],
            [
             0.2,
             "#de77ae"
            ],
            [
             0.3,
             "#f1b6da"
            ],
            [
             0.4,
             "#fde0ef"
            ],
            [
             0.5,
             "#f7f7f7"
            ],
            [
             0.6,
             "#e6f5d0"
            ],
            [
             0.7,
             "#b8e186"
            ],
            [
             0.8,
             "#7fbc41"
            ],
            [
             0.9,
             "#4d9221"
            ],
            [
             1,
             "#276419"
            ]
           ],
           "sequential": [
            [
             0,
             "#0d0887"
            ],
            [
             0.1111111111111111,
             "#46039f"
            ],
            [
             0.2222222222222222,
             "#7201a8"
            ],
            [
             0.3333333333333333,
             "#9c179e"
            ],
            [
             0.4444444444444444,
             "#bd3786"
            ],
            [
             0.5555555555555556,
             "#d8576b"
            ],
            [
             0.6666666666666666,
             "#ed7953"
            ],
            [
             0.7777777777777778,
             "#fb9f3a"
            ],
            [
             0.8888888888888888,
             "#fdca26"
            ],
            [
             1,
             "#f0f921"
            ]
           ],
           "sequentialminus": [
            [
             0,
             "#0d0887"
            ],
            [
             0.1111111111111111,
             "#46039f"
            ],
            [
             0.2222222222222222,
             "#7201a8"
            ],
            [
             0.3333333333333333,
             "#9c179e"
            ],
            [
             0.4444444444444444,
             "#bd3786"
            ],
            [
             0.5555555555555556,
             "#d8576b"
            ],
            [
             0.6666666666666666,
             "#ed7953"
            ],
            [
             0.7777777777777778,
             "#fb9f3a"
            ],
            [
             0.8888888888888888,
             "#fdca26"
            ],
            [
             1,
             "#f0f921"
            ]
           ]
          },
          "colorway": [
           "#636efa",
           "#EF553B",
           "#00cc96",
           "#ab63fa",
           "#FFA15A",
           "#19d3f3",
           "#FF6692",
           "#B6E880",
           "#FF97FF",
           "#FECB52"
          ],
          "font": {
           "color": "#2a3f5f"
          },
          "geo": {
           "bgcolor": "white",
           "lakecolor": "white",
           "landcolor": "#E5ECF6",
           "showlakes": true,
           "showland": true,
           "subunitcolor": "white"
          },
          "hoverlabel": {
           "align": "left"
          },
          "hovermode": "closest",
          "mapbox": {
           "style": "light"
          },
          "paper_bgcolor": "white",
          "plot_bgcolor": "#E5ECF6",
          "polar": {
           "angularaxis": {
            "gridcolor": "white",
            "linecolor": "white",
            "ticks": ""
           },
           "bgcolor": "#E5ECF6",
           "radialaxis": {
            "gridcolor": "white",
            "linecolor": "white",
            "ticks": ""
           }
          },
          "scene": {
           "xaxis": {
            "backgroundcolor": "#E5ECF6",
            "gridcolor": "white",
            "gridwidth": 2,
            "linecolor": "white",
            "showbackground": true,
            "ticks": "",
            "zerolinecolor": "white"
           },
           "yaxis": {
            "backgroundcolor": "#E5ECF6",
            "gridcolor": "white",
            "gridwidth": 2,
            "linecolor": "white",
            "showbackground": true,
            "ticks": "",
            "zerolinecolor": "white"
           },
           "zaxis": {
            "backgroundcolor": "#E5ECF6",
            "gridcolor": "white",
            "gridwidth": 2,
            "linecolor": "white",
            "showbackground": true,
            "ticks": "",
            "zerolinecolor": "white"
           }
          },
          "shapedefaults": {
           "line": {
            "color": "#2a3f5f"
           }
          },
          "ternary": {
           "aaxis": {
            "gridcolor": "white",
            "linecolor": "white",
            "ticks": ""
           },
           "baxis": {
            "gridcolor": "white",
            "linecolor": "white",
            "ticks": ""
           },
           "bgcolor": "#E5ECF6",
           "caxis": {
            "gridcolor": "white",
            "linecolor": "white",
            "ticks": ""
           }
          },
          "title": {
           "x": 0.05
          },
          "xaxis": {
           "automargin": true,
           "gridcolor": "white",
           "linecolor": "white",
           "ticks": "",
           "title": {
            "standoff": 15
           },
           "zerolinecolor": "white",
           "zerolinewidth": 2
          },
          "yaxis": {
           "automargin": true,
           "gridcolor": "white",
           "linecolor": "white",
           "ticks": "",
           "title": {
            "standoff": 15
           },
           "zerolinecolor": "white",
           "zerolinewidth": 2
          }
         }
        },
        "title": {
         "text": "Mean ± Std and Max per Sample – ft-model | v7 | level1_f1_python | re=low"
        },
        "width": 1200,
        "xaxis": {
         "anchor": "y",
         "domain": [
          0,
          1
         ],
         "showgrid": false,
         "tickangle": -90,
         "tickfont": {
          "size": 9
         },
         "title": {
          "text": "Sample id (ordered by mean)"
         }
        },
        "yaxis": {
         "anchor": "x",
         "domain": [
          0,
          1
         ],
         "gridcolor": "rgba(0,0,0,0.08)",
         "gridwidth": 0.5,
         "range": [
          0,
          1.05
         ],
         "showgrid": true,
         "title": {
          "text": "Score"
         }
        }
       }
      }
     },
     "metadata": {},
     "output_type": "display_data"
    }
   ],
   "source": [
    "# Variance \n",
    "from utils.plot_eval_runs import plot_score_stats_plotly\n",
    "\n",
    "for rec in records:\n",
    "\n",
    "    if \"ft\" in rec[\"model\"]:\n",
    "        scores_by_item, runs = load_scores_by_item(\n",
    "            dataset=DATASET,\n",
    "            prompt_id=_PROMPT_CACHE[rec[\"prompt\"]],\n",
    "            model=rec[\"model\"],\n",
    "            grader_name=rec[\"grader\"],\n",
    "            reasoning_effort=rec[\"reasoning_effort\"],\n",
    "            split=SPLIT,\n",
    "        )\n",
    "        if not scores_by_item:\n",
    "            continue\n",
    "        stats = compute_score_stats(scores_by_item)\n",
    "        context_label = (\n",
    "            f\"ft-model | {rec['prompt']} | {rec['grader']} | re={rec['reasoning_effort'] or 'None'}\"\n",
    "        )\n",
    "        _ = plot_score_stats_plotly(stats, n_runs=rec[\"n_runs\"], context=context_label) \n"
   ]
  },
  {
   "cell_type": "code",
   "execution_count": null,
   "id": "c49d0a0f",
   "metadata": {},
   "outputs": [],
   "source": []
  }
 ],
 "metadata": {
  "kernelspec": {
   "display_name": "venv",
   "language": "python",
   "name": "python3"
  },
  "language_info": {
   "codemirror_mode": {
    "name": "ipython",
    "version": 3
   },
   "file_extension": ".py",
   "mimetype": "text/x-python",
   "name": "python",
   "nbconvert_exporter": "python",
   "pygments_lexer": "ipython3",
   "version": "3.12.9"
  }
 },
 "nbformat": 4,
 "nbformat_minor": 5
}
