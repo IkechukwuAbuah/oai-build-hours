{
 "cells": [
  {
   "cell_type": "code",
   "execution_count": null,
   "id": "0f05f442",
   "metadata": {},
   "outputs": [],
   "source": [
    "from openai import OpenAI\n",
    "import os\n",
    "import json\n",
    "\n",
    "client = OpenAI(api_key=os.getenv(\"OPENAI_API_KEY\"))\n",
    "\n",
    "response = client.responses.create(\n",
    "    model=\"gpt-5\",\n",
    "    input=\"Hello, world!\",\n",
    ")\n",
    "\n",
    "response.output_text"
   ]
  },
  {
   "cell_type": "markdown",
   "id": "0d33fe0c",
   "metadata": {},
   "source": [
    "### Minimal Reasoning effort"
   ]
  },
  {
   "cell_type": "code",
   "execution_count": null,
   "id": "b69e44e5",
   "metadata": {},
   "outputs": [],
   "source": [
    "response = client.responses.create(\n",
    "    model=\"gpt-5\",\n",
    "    input=\"Which number is larger 5.11 or 5.8\",\n",
    "    reasoning={\"effort\": \"minimal\"},\n",
    ")\n",
    "\n",
    "response.output_text"
   ]
  },
  {
   "cell_type": "code",
   "execution_count": null,
   "id": "bf7fb718",
   "metadata": {},
   "outputs": [],
   "source": [
    "response = client.responses.create(\n",
    "    model=\"gpt-5\",\n",
    "    input=\"Which number is larger 5.11 or 5.8\",\n",
    "    reasoning={\"effort\": \"high\", \"summary\": \"detailed\"},\n",
    ")\n",
    "\n",
    "response.output"
   ]
  },
  {
   "cell_type": "markdown",
   "id": "a182ae91",
   "metadata": {},
   "source": [
    "### Responses API for optimal performance"
   ]
  },
  {
   "cell_type": "code",
   "execution_count": null,
   "id": "c1a1630e",
   "metadata": {},
   "outputs": [],
   "source": [
    "response = client.chat.completions.create(\n",
    "    model=\"gpt-5\",\n",
    "    messages=[\n",
    "        {\"role\": \"user\", \"content\": \"Hello, world!\"},\n",
    "    ],\n",
    ")\n"
   ]
  },
  {
   "cell_type": "code",
   "execution_count": null,
   "id": "774f8b9c",
   "metadata": {},
   "outputs": [],
   "source": [
    "response.choices[0].message.content"
   ]
  },
  {
   "cell_type": "code",
   "execution_count": null,
   "id": "2a33c9c8",
   "metadata": {},
   "outputs": [],
   "source": [
    "response = client.responses.create(\n",
    "    model=\"gpt-5\",\n",
    "    input=\"Hello, world!\",\n",
    ")"
   ]
  },
  {
   "cell_type": "code",
   "execution_count": null,
   "id": "02761f2e",
   "metadata": {},
   "outputs": [],
   "source": [
    "response.output_text"
   ]
  },
  {
   "cell_type": "code",
   "execution_count": null,
   "id": "54e1a9bb",
   "metadata": {},
   "outputs": [],
   "source": [
    "response.output"
   ]
  },
  {
   "cell_type": "code",
   "execution_count": null,
   "id": "51f4b46e",
   "metadata": {},
   "outputs": [],
   "source": [
    "response = client.responses.create(\n",
    "    model=\"gpt-5\",\n",
    "    input=\"Hello, world!\",\n",
    "    include=[\"reasoning.encrypted_content\"],\n",
    "    store=False,\n",
    ")"
   ]
  },
  {
   "cell_type": "code",
   "execution_count": null,
   "id": "a48a6d6d",
   "metadata": {},
   "outputs": [],
   "source": [
    "response"
   ]
  },
  {
   "cell_type": "markdown",
   "id": "331d5854",
   "metadata": {},
   "source": [
    "### When is the reasoning items necessary for model intelligence?\n",
    "(user) -> user message -> (api) -> toolcall, reasoning item -> (user) --> toolcall result, reasoning item ->\n",
    "\n",
    "(api) -> toocall2, reasoning item2 -> (user) -> toolcall result2, reasoning item2 -> (api) -> assistant message -> (user)"
   ]
  },
  {
   "cell_type": "code",
   "execution_count": null,
   "id": "12ae3969",
   "metadata": {},
   "outputs": [],
   "source": [
    "tools = [{\n",
    "    \"type\": \"function\",\n",
    "    \"name\": \"get_weather\",\n",
    "    \"description\": \"Get current temperature for provided coordinates in celsius.\",\n",
    "    \"parameters\": {\n",
    "        \"type\": \"object\",\n",
    "        \"properties\": {\n",
    "            \"latitude\": {\"type\": \"number\"},\n",
    "            \"longitude\": {\"type\": \"number\"}\n",
    "        },\n",
    "        \"required\": [\"latitude\", \"longitude\"],\n",
    "        \"additionalProperties\": False\n",
    "    },\n",
    "    \"strict\": True\n",
    "}]"
   ]
  },
  {
   "cell_type": "code",
   "execution_count": null,
   "id": "532e1a8e",
   "metadata": {},
   "outputs": [],
   "source": [
    "context = [{\"role\": \"user\", \"content\": \"What's the weather like in Paris today?\"}]\n",
    "\n",
    "response = client.responses.create(\n",
    "    model=\"gpt-5\",\n",
    "    input=context,\n",
    "    tools=tools,\n",
    "    store=False, #store=false, just like how ZDR is enforced\n",
    "    include=[\"reasoning.encrypted_content\"] # Encrypted chain of thought is passed back in the response\n",
    ")"
   ]
  },
  {
   "cell_type": "code",
   "execution_count": null,
   "id": "5406cdf0",
   "metadata": {},
   "outputs": [],
   "source": [
    "response"
   ]
  },
  {
   "cell_type": "code",
   "execution_count": null,
   "id": "059937e4",
   "metadata": {},
   "outputs": [],
   "source": [
    "context += response.output # Add the response to the context (including the encrypted chain of thought)\n",
    "tool_call = response.output[1]\n",
    "args = json.loads(tool_call.arguments)\n",
    "\n",
    "\n",
    "\n",
    "result = 20 #mocking the result of the function call\n",
    "\n",
    "context.append({                               \n",
    "    \"type\": \"function_call_output\",\n",
    "    \"call_id\": tool_call.call_id,\n",
    "    \"output\": str(result)\n",
    "})\n",
    "\n",
    "response_2 = client.responses.create(\n",
    "    model=\"gpt-5\",\n",
    "    input=context,\n",
    "    tools=tools,\n",
    "    store=False,\n",
    "    include=[\"reasoning.encrypted_content\"]\n",
    ")\n",
    "\n",
    "print(response_2.output_text)"
   ]
  },
  {
   "cell_type": "markdown",
   "id": "8ef71057",
   "metadata": {},
   "source": [
    "## Verbosity and free form toolcalling"
   ]
  },
  {
   "cell_type": "code",
   "execution_count": null,
   "id": "26dfb11d",
   "metadata": {},
   "outputs": [],
   "source": [
    "response = client.responses.create(\n",
    "    model=\"gpt-5\",\n",
    "    input=\"Hello, world!\",\n",
    "    text={\"verbosity\": \"low\"},\n",
    ")\n",
    "\n",
    "response.output_text"
   ]
  },
  {
   "cell_type": "code",
   "execution_count": null,
   "id": "8c660fad",
   "metadata": {},
   "outputs": [],
   "source": [
    "response = client.responses.create(\n",
    "    model=\"gpt-5\",\n",
    "    input=\"Hello, world!\",\n",
    "    text={\"verbosity\": \"high\"},\n",
    ")\n",
    "\n",
    "response.output_text"
   ]
  },
  {
   "cell_type": "code",
   "execution_count": null,
   "id": "3761f235",
   "metadata": {},
   "outputs": [],
   "source": [
    "def verbosity_test(verbosity: str, prompt: str, reasoning: str = \"medium\"):\n",
    "\n",
    "\n",
    "\n",
    "    # tools = [\n",
    "    #     {\n",
    "    #         \"type\": \"function\",\n",
    "    #         \"name\": \"write_code\",\n",
    "    #         \"description\": \"Tool used to output the code\",\n",
    "    #         \"strict\": True,  # ensure the model adheres to the JSON schema\n",
    "    #         \"parameters\": {\n",
    "    #             \"type\": \"object\",\n",
    "    #             \"properties\": {\n",
    "    #                 \"code\": {\n",
    "    #                     \"type\": \"string\",\n",
    "    #                     \"description\": \"String for the code generated\"\n",
    "    #                 }\n",
    "    #             },\n",
    "    #             \"required\": [\"code\"],\n",
    "    #             \"additionalProperties\": False\n",
    "    #         }\n",
    "    #     }\n",
    "    # ]\n",
    "\n",
    "\n",
    "    TOOLS = [\n",
    "    {\n",
    "        \"type\": \"custom\",\n",
    "        \"name\": \"write_code\",\n",
    "        \"description\": \"tool used to output code\",\n",
    "    }]\n",
    "\n",
    "\n",
    "    resp = client.responses.create(\n",
    "    model=\"gpt-5\",\n",
    "    input=prompt,\n",
    "    tools=TOOLS,\n",
    "    tool_choice=\"auto\",\n",
    "    text={\"verbosity\": verbosity, \"format\": {\"type\": \"text\"}},\n",
    "    reasoning={\"effort\": reasoning},\n",
    "    \n",
    "    )\n",
    "    emitted_code = None\n",
    "    # print(resp)\n",
    "\n",
    "    # for item in getattr(resp, \"output\", []) or []:\n",
    "    #     if getattr(item, \"type\", None) == \"function_call\" and getattr(item, \"name\", \"\") == \"write_code\":\n",
    "    #         args = getattr(item, \"arguments\", {}) or {}\n",
    "    #         if isinstance(args, str):\n",
    "    #             try:\n",
    "    #                 args = json.loads(args)\n",
    "    #             except json.JSONDecodeError:\n",
    "    #                 args = {}\n",
    "    #         emitted_code = args.get(\"code\")\n",
    "    #         break\n",
    "\n",
    "    emitted_code = resp.output[1].input\n",
    "\n",
    "\n",
    "\n",
    "\n",
    "    print(\"emitted_code: \\n\", emitted_code)\n",
    "    \n",
    "    return emitted_code\n",
    "\n",
    "\n",
    "\n",
    "\n"
   ]
  },
  {
   "cell_type": "code",
   "execution_count": null,
   "id": "40596c0e",
   "metadata": {},
   "outputs": [],
   "source": [
    "prompt = (\n",
    "    \"Write a Python function that computes factorial(n) iteratively and handles n=0. \"\n",
    "    \"Return the result using the write_code tool, putting the code.\"\n",
    ")\n"
   ]
  },
  {
   "cell_type": "code",
   "execution_count": null,
   "id": "48b8cd1f",
   "metadata": {},
   "outputs": [],
   "source": [
    "code = verbosity_test(\"low\",prompt)"
   ]
  },
  {
   "cell_type": "code",
   "execution_count": null,
   "id": "bc8e10c9",
   "metadata": {},
   "outputs": [],
   "source": [
    "code = verbosity_test(\"high\", prompt)\n"
   ]
  },
  {
   "cell_type": "code",
   "execution_count": null,
   "id": "c877cdbf",
   "metadata": {},
   "outputs": [],
   "source": [
    "prompt = \"\"\"write me a python script that I can copy and paste into a jupyter notebook that will make a detailed drawing of a minecraft dirt block \"\"\"\n"
   ]
  },
  {
   "cell_type": "code",
   "execution_count": null,
   "id": "52014784",
   "metadata": {},
   "outputs": [],
   "source": [
    "code = verbosity_test(\"high\", prompt, \"high\")\n"
   ]
  },
  {
   "cell_type": "code",
   "execution_count": null,
   "id": "090ca31b",
   "metadata": {},
   "outputs": [],
   "source": []
  }
 ],
 "metadata": {
  "kernelspec": {
   "display_name": "Python 3",
   "language": "python",
   "name": "python3"
  },
  "language_info": {
   "codemirror_mode": {
    "name": "ipython",
    "version": 3
   },
   "file_extension": ".py",
   "mimetype": "text/x-python",
   "name": "python",
   "nbconvert_exporter": "python",
   "pygments_lexer": "ipython3",
   "version": "3.11.8"
  }
 },
 "nbformat": 4,
 "nbformat_minor": 5
}
